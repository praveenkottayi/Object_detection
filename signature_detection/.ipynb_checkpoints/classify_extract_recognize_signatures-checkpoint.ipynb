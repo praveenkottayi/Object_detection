{
 "cells": [
  {
   "cell_type": "code",
   "execution_count": 6,
   "metadata": {},
   "outputs": [
    {
     "name": "stderr",
     "output_type": "stream",
     "text": [
      "Using TensorFlow backend.\n"
     ]
    }
   ],
   "source": [
    "%matplotlib inline\n",
    "import os\n",
    "import random\n",
    "import numpy as np\n",
    "import matplotlib.pyplot \n",
    "from matplotlib.pyplot import imshow, imsave\n",
    "import keras\n",
    "from keras.preprocessing import image\n",
    "from keras.applications.imagenet_utils import decode_predictions, preprocess_input\n",
    "from keras.models import Model\n",
    "from sklearn.decomposition import PCA\n",
    "from scipy.spatial import distance\n",
    "\n",
    "from sklearn.externals import joblib\n",
    "from keras.preprocessing import image\n",
    "import cv2\n",
    "from PIL import Image"
   ]
  },
  {
   "cell_type": "code",
   "execution_count": 7,
   "metadata": {},
   "outputs": [],
   "source": [
    "\n",
    "# loading saved classifier  \n",
    "clf_sign = joblib.load('clf_sign.pkl') \n",
    "import os"
   ]
  },
  {
   "cell_type": "markdown",
   "metadata": {},
   "source": [
    "# Loading model online "
   ]
  },
  {
   "cell_type": "code",
   "execution_count": 8,
   "metadata": {},
   "outputs": [
    {
     "name": "stdout",
     "output_type": "stream",
     "text": [
      "Loaded model online\n"
     ]
    }
   ],
   "source": [
    "model = keras.applications.VGG16(weights='imagenet', include_top=True)\n",
    "print(\"Loaded model online\")"
   ]
  },
  {
   "cell_type": "markdown",
   "metadata": {},
   "source": [
    "# loading model offline"
   ]
  },
  {
   "cell_type": "code",
   "execution_count": 9,
   "metadata": {},
   "outputs": [],
   "source": [
    "# load json and create model\n",
    "#json_file = open('prv_VGG16_architecture.json', 'r')\n",
    "#loaded_model_json = json_file.read()\n",
    "#json_file.close()\n",
    "#from keras.models import model_from_json\n",
    "#model = model_from_json(loaded_model_json)\n",
    "# load weights into new model\n",
    "#model.load_weights(\"vgg16_weights_tf_dim_ordering_tf_kernels.h5\")\n",
    "#print(\"Loaded model from disk\")"
   ]
  },
  {
   "cell_type": "code",
   "execution_count": 10,
   "metadata": {},
   "outputs": [],
   "source": [
    "# get_image will return a handle to the image itself, and a numpy array of its pixels to input the network\n",
    "def get_image(path):\n",
    "    img = image.load_img(path, target_size=model.input_shape[1:3])\n",
    "    x = image.img_to_array(img)\n",
    "    x = np.expand_dims(x, axis=0)\n",
    "    x = preprocess_input(x)\n",
    "    #ret, thresh = cv2.threshold(np.array(img), 200, 255, cv2.THRESH_BINARY)\n",
    "    #return thresh, x\n",
    "    return img,x"
   ]
  },
  {
   "cell_type": "code",
   "execution_count": 11,
   "metadata": {},
   "outputs": [],
   "source": [
    "feat_extractor = Model(inputs=model.input, outputs=model.get_layer(\"fc2\").output)\n",
    "#feat_extractor.summary()"
   ]
  },
  {
   "cell_type": "markdown",
   "metadata": {},
   "source": [
    "# path for probable signatures identified by image processing methods "
   ]
  },
  {
   "cell_type": "code",
   "execution_count": 72,
   "metadata": {},
   "outputs": [
    {
     "name": "stdout",
     "output_type": "stream",
     "text": [
      "['GATE11', 'h', 'c', 'cheque', '03', 'e', '02', 'scan2', 'scan3', 'g', '01', 'GATE18', 'scan1', 'f', 'd', 'b', 'GATE12', 'a']\n"
     ]
    }
   ],
   "source": [
    "images_path = \"/home/pyimagesearch/Desktop/Signature_final/Test Documents/DETECTED/\"\n",
    "list_folders = os.listdir(images_path)\n",
    "print(list_folders)\n",
    "#i_path = images_path + list_folders[0] + \"/prob_signature/\"\n",
    "#print(i_path)"
   ]
  },
  {
   "cell_type": "code",
   "execution_count": 67,
   "metadata": {},
   "outputs": [],
   "source": [
    "# By running signature_level_1.py, we have already extracted probable signatures to DETECTED folder \n",
    "\n",
    "#images_path = 'C:/Users/1311921/Desktop/Signature_final/Test Documents/temp/GATE12/prob_stamps/'\n",
    "images_path = \"/home/pyimagesearch/Desktop/Signature_final/Test Documents/DETECTED/scan2/prob_signature/\" "
   ]
  },
  {
   "cell_type": "code",
   "execution_count": 70,
   "metadata": {},
   "outputs": [
    {
     "name": "stdout",
     "output_type": "stream",
     "text": [
      "keeping 100 images to analyze\n"
     ]
    }
   ],
   "source": [
    "max_num_images = 100\n",
    "images = [os.path.join(dp, f) for dp, dn, filenames in os.walk(images_path) for f in filenames if os.path.splitext(f)[1].lower() in ['.jpg','.png','.jpeg']]\n",
    "if max_num_images < len(images):\n",
    "    images = [images[i] for i in sorted(random.sample(range(len(images)), max_num_images))]\n",
    "print(\"keeping %d images to analyze\" % len(images))"
   ]
  },
  {
   "cell_type": "markdown",
   "metadata": {},
   "source": [
    "# Display and save the probable signature for classification "
   ]
  },
  {
   "cell_type": "code",
   "execution_count": 50,
   "metadata": {},
   "outputs": [
    {
     "data": {
      "image/png": "[encoded data removed]",
      "text/plain": [
       "<matplotlib.figure.Figure at 0x7f6bcea09828>"
      ]
     },
     "metadata": {},
     "output_type": "display_data"
    },
    {
     "data": {
      "image/png": "[encoded data removed]",
      "text/plain": [
       "<matplotlib.figure.Figure at 0x7f6bce715828>"
      ]
     },
     "metadata": {},
     "output_type": "display_data"
    },
    {
     "data": {
      "image/png": "[encoded data removed]",
      "text/plain": [
       "<matplotlib.figure.Figure at 0x7f6bce9c98d0>"
      ]
     },
     "metadata": {},
     "output_type": "display_data"
    },
    {
     "data": {
      "image/png": "[encoded data removed]",
      "text/plain": [
       "<matplotlib.figure.Figure at 0x7f6bceb03908>"
      ]
     },
     "metadata": {},
     "output_type": "display_data"
    },
    {
     "data": {
      "image/png": "[encoded data removed]",
      "text/plain": [
       "<matplotlib.figure.Figure at 0x7f6bce6d6a58>"
      ]
     },
     "metadata": {},
     "output_type": "display_data"
    },
    {
     "data": {
      "image/png": "[encoded data removed]",
      "text/plain": [
       "<matplotlib.figure.Figure at 0x7f6bce6fb710>"
      ]
     },
     "metadata": {},
     "output_type": "display_data"
    },
    {
     "data": {
      "image/png": "[encoded data removed]",
      "text/plain": [
       "<matplotlib.figure.Figure at 0x7f6bce623358>"
      ]
     },
     "metadata": {},
     "output_type": "display_data"
    },
    {
     "data": {
      "image/png": "[encoded data removed]",
      "text/plain": [
       "<matplotlib.figure.Figure at 0x7f6bce692898>"
      ]
     },
     "metadata": {},
     "output_type": "display_data"
    },
    {
     "data": {
      "image/png": "[encoded data removed]",
      "text/plain": [
       "<matplotlib.figure.Figure at 0x7f6bce5716a0>"
      ]
     },
     "metadata": {},
     "output_type": "display_data"
    },
    {
     "data": {
      "image/png": "[encoded data removed]",
      "text/plain": [
       "<matplotlib.figure.Figure at 0x7f6bd1c37eb8>"
      ]
     },
     "metadata": {},
     "output_type": "display_data"
    },
    {
     "data": {
      "image/png": "[encoded data removed]",
      "text/plain": [
       "<matplotlib.figure.Figure at 0x7f6bd1ce8b00>"
      ]
     },
     "metadata": {},
     "output_type": "display_data"
    },
    {
     "data": {
      "image/png": "[encoded data removed]",
      "text/plain": [
       "<matplotlib.figure.Figure at 0x7f6bcfa9bf98>"
      ]
     },
     "metadata": {},
     "output_type": "display_data"
    }
   ],
   "source": [
    "features = []\n",
    "store_img = []\n",
    "for image_path in (images):\n",
    "    #print(image_path)\n",
    "    \n",
    "    img, x = get_image(image_path);    \n",
    "    # display the resulting images\n",
    "    matplotlib.pyplot.figure(figsize = (3,4))\n",
    "    feat = feat_extractor.predict(x)[0]\n",
    "    features.append(feat)\n",
    "    imshow(img)  \n",
    "    store_img.append(img)\n",
    "features = np.array(features)"
   ]
  },
  {
   "cell_type": "markdown",
   "metadata": {},
   "source": [
    "# Classify wheather it is a sign or not "
   ]
  },
  {
   "cell_type": "code",
   "execution_count": 51,
   "metadata": {},
   "outputs": [],
   "source": [
    "#clf_sign.predict(features)"
   ]
  },
  {
   "cell_type": "code",
   "execution_count": 52,
   "metadata": {},
   "outputs": [
    {
     "data": {
      "text/plain": [
       "[3, 7, 10, 11]"
      ]
     },
     "execution_count": 52,
     "metadata": {},
     "output_type": "execute_result"
    }
   ],
   "source": [
    "indices = [i for i, x in enumerate(clf_sign.predict(features)) if x == 1]\n",
    "indices"
   ]
  },
  {
   "cell_type": "code",
   "execution_count": 53,
   "metadata": {},
   "outputs": [],
   "source": [
    "def ensure_dir(file_path):\n",
    "    directory = os.path.dirname(file_path)\n",
    "    if not os.path.exists(directory):\n",
    "        os.makedirs(directory)"
   ]
  },
  {
   "cell_type": "code",
   "execution_count": 54,
   "metadata": {},
   "outputs": [],
   "source": [
    "c=0\n",
    "for image_path in (images):  \n",
    "    #print(image_path)\n",
    "    if c in indices:               \n",
    "        img, x = get_image(image_path);        \n",
    "        # display the resulting images\n",
    "        #matplotlib.pyplot.figure(figsize = (4,4)) \n",
    "        #imshow(store_img[c])  \n",
    "        sign_image_path = images_path + \"Sign/\"\n",
    "        ensure_dir(sign_image_path)\n",
    "        image_name = (sign_image_path +str(c) + \".png\")\n",
    "        ret, thresh = cv2.threshold(np.array(store_img[c]), 200, 255, cv2.THRESH_BINARY) \n",
    "        imsave(image_name, thresh)\n",
    "    c = c+1"
   ]
  },
  {
   "cell_type": "markdown",
   "metadata": {},
   "source": [
    "# Deep learning / CNN features extracted and check similarity"
   ]
  },
  {
   "cell_type": "code",
   "execution_count": 55,
   "metadata": {},
   "outputs": [],
   "source": [
    "#reference_sign_database_path = 'C:/Users/1311921/Desktop/Signature_final/sample signs/'\n",
    "reference_sign_database_path = \"/home/pyimagesearch/Desktop/Signature_final/database reference signatures/\""
   ]
  },
  {
   "cell_type": "code",
   "execution_count": 56,
   "metadata": {},
   "outputs": [
    {
     "name": "stdout",
     "output_type": "stream",
     "text": [
      "keeping 35 reference signatures to analyze\n",
      "keeping 4 test signatures to analyze\n"
     ]
    }
   ],
   "source": [
    "# Reference signatures \n",
    "\n",
    "max_num_images = 35\n",
    "#print(reference_sign_database_path)\n",
    "images = [os.path.join(dp, f) for dp, dn, filenames in os.walk(reference_sign_database_path) for f in filenames if os.path.splitext(f)[1].lower() in ['.jpg','.png','.jpeg']]\n",
    "if max_num_images < len(images):\n",
    "    images = [images[i] for i in sorted(random.sample(range(len(images)), max_num_images))]   \n",
    "\n",
    "print(\"keeping %d reference signatures to analyze\" % len(images))\n",
    "\n",
    "# Extracted signatures for testing \n",
    "\n",
    "\n",
    "#print(sign_image_path)\n",
    "max_num_images = 35\n",
    "\n",
    "S_images = [os.path.join(dp, f) for dp, dn, filenames in os.walk(sign_image_path) for f in filenames if os.path.splitext(f)[1].lower() in ['.jpg','.png','.jpeg']]\n",
    "if max_num_images < len(images):\n",
    "    S_images = [S_images[i] for i in sorted(random.sample(range(len(images)), max_num_images))]   \n",
    "\n",
    "print(\"keeping %d test signatures to analyze\" % len(S_images))"
   ]
  },
  {
   "cell_type": "code",
   "execution_count": 57,
   "metadata": {},
   "outputs": [],
   "source": [
    "features = []\n",
    "for image_path in (images):\n",
    "    img, x = get_image(image_path);    \n",
    "    feat = feat_extractor.predict(x)[0]\n",
    "    features.append(feat)\n",
    " \n",
    "test_features = []\n",
    "for_display_test = []\n",
    "for imagex in (S_images):\n",
    "    img, x = get_image(imagex);\n",
    "    for_display_test.append(img)\n",
    "    feat_test = feat_extractor.predict(x)[0]\n",
    "    test_features.append(feat_test)\n",
    "    \n",
    "pca_features = features"
   ]
  },
  {
   "cell_type": "code",
   "execution_count": 58,
   "metadata": {},
   "outputs": [],
   "source": [
    "def get_closest_images(query_image_feat , name, num_results):\n",
    "    distances = [ distance.euclidean(query_image_feat, feat) for feat in pca_features ]\n",
    "    #print(distances)    \n",
    "    idx_closest = sorted(range(len(distances)), key=lambda k: distances[k])[0:num_results]\n",
    "    print(\"min distance sign: \" + str(min(distances)))\n",
    "    aaa = (np.argsort(distances)[:num_results])\n",
    "    \n",
    "    d = []\n",
    "    for i in range(0,num_results):\n",
    "        #print(distances[aaa[i]])\n",
    "        d.append(distances[aaa[i]])\n",
    "        \n",
    "    # save to a text \n",
    "\n",
    "    text_file = open( name +\".txt\", \"w\")\n",
    "    text_file.write(\"Similar Signatures based on similarity: \\n\"+ str(d))\n",
    "    text_file.close()\n",
    "    return idx_closest\n",
    "\n",
    "def get_concatenated_images(indexes, name, thumb_height ):\n",
    "    thumbs = []\n",
    "    for idx in indexes:\n",
    "        img = cv2.imread(images[idx],0)         \n",
    "        img = Image.fromarray(img)\n",
    "        img = img.resize((int(img.width * thumb_height / img.height), thumb_height))\n",
    "        thumbs.append(img)\n",
    "    concat_image = np.concatenate([np.asarray(t) for t in thumbs], axis=1)\n",
    "    \n",
    "    p = name + \".png\"\n",
    "    cv2.imwrite(p, concat_image)\n",
    "    return concat_image"
   ]
  },
  {
   "cell_type": "code",
   "execution_count": 59,
   "metadata": {},
   "outputs": [
    {
     "name": "stdout",
     "output_type": "stream",
     "text": [
      " If min distance < 40 : Match is perfect\n",
      " If min distance < 60 & > 40  : Match is possible but chance of error high\n",
      " If min distance > 60  : Similar signature not present or may be it is not even a valid signature\n",
      "0\n",
      "min distance sign: 72.47615051269531\n",
      "1\n",
      "min distance sign: 52.61033248901367\n",
      "2\n",
      "min distance sign: 78.47933197021484\n",
      "3\n",
      "min distance sign: 64.40092468261719\n"
     ]
    }
   ],
   "source": [
    "# automate for all\n",
    "\n",
    "print(\" If min distance < 40 : Match is perfect\")\n",
    "print(\" If min distance < 60 & > 40  : Match is possible but chance of error high\")\n",
    "print(\" If min distance > 60  : Similar signature not present or may be it is not even a valid signature\")\n",
    "\n",
    "\n",
    "for i in range(0,len(test_features)):\n",
    "    query_image_idx = i\n",
    "    print(query_image_idx)\n",
    "    query_image_feat = test_features[query_image_idx]\n",
    "    ensure_dir(sign_image_path + \"SIMILARITY/\")\n",
    "\n",
    "    name = sign_image_path + \"SIMILARITY/\"+ \"similar_to_\" + str(query_image_idx)\n",
    "\n",
    "    #print(\"Query image: \")\n",
    "    #matplotlib.pyplot.figure(figsize = (4,4))\n",
    "    #imshow(for_display_test[query_image_idx])\n",
    "    imsave(name + \"_original.png\", for_display_test[query_image_idx])\n",
    "\n",
    "    idx_closest = get_closest_images(query_image_feat , name, 3)\n",
    "\n",
    "    results_image = get_concatenated_images(idx_closest, name ,400)\n",
    "    #print(\"Similar Signatures based on similarity: \")\n",
    "    #imshow(results_image)"
   ]
  },
  {
   "cell_type": "markdown",
   "metadata": {},
   "source": [
    "#### END #######"
   ]
  },
  {
   "cell_type": "raw",
   "metadata": {},
   "source": [
    "# NB : Please go the respective folders "
   ]
  },
  {
   "cell_type": "code",
   "execution_count": null,
   "metadata": {},
   "outputs": [],
   "source": []
  }
 ],
 "metadata": {
  "kernelspec": {
   "display_name": "Python 3",
   "language": "python",
   "name": "python3"
  },
  "language_info": {
   "codemirror_mode": {
    "name": "ipython",
    "version": 3
   },
   "file_extension": ".py",
   "mimetype": "text/x-python",
   "name": "python",
   "nbconvert_exporter": "python",
   "pygments_lexer": "ipython3",
   "version": "3.5.2"
  }
 },
 "nbformat": 4,
 "nbformat_minor": 2
}
