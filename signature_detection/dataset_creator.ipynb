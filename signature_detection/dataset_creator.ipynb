{
 "cells": [
  {
   "cell_type": "code",
   "execution_count": 1,
   "metadata": {},
   "outputs": [],
   "source": [
    "import cv2\n",
    "import numpy as np\n",
    "import matplotlib.pyplot as plt\n",
    "import os\n",
    "import random"
   ]
  },
  {
   "cell_type": "code",
   "execution_count": 2,
   "metadata": {},
   "outputs": [],
   "source": [
    "images_path = \"/home/pyimagesearch/Desktop/SIGNATURE/CUTTER/\""
   ]
  },
  {
   "cell_type": "code",
   "execution_count": 3,
   "metadata": {},
   "outputs": [
    {
     "name": "stdout",
     "output_type": "stream",
     "text": [
      "keeping 12 images to analyze\n"
     ]
    }
   ],
   "source": [
    "max_num_images = 35\n",
    "\n",
    "images = [os.path.join(dp, f) for dp, dn, filenames in os.walk(images_path) for f in filenames if os.path.splitext(f)[1].lower() in ['.jpg','.png','.jpeg']]\n",
    "if max_num_images < len(images):\n",
    "    images = [images[i] for i in sorted(random.sample(range(len(images)), max_num_images))]\n",
    "\n",
    "print(\"keeping %d images to analyze\" % len(images))"
   ]
  },
  {
   "cell_type": "code",
   "execution_count": 4,
   "metadata": {},
   "outputs": [
    {
     "name": "stdout",
     "output_type": "stream",
     "text": [
      "/home/pyimagesearch/Desktop/SIGNATURE/CUTTER/GATE18.jpg\n",
      "(816, 818, 3)\n",
      "/home/pyimagesearch/Desktop/SIGNATURE/CUTTER/GATE11.jpg\n",
      "(2023, 1431, 3)\n",
      "/home/pyimagesearch/Desktop/SIGNATURE/CUTTER/GATE12.jpg\n",
      "(862, 648, 3)\n",
      "/home/pyimagesearch/Desktop/SIGNATURE/CUTTER/02.png\n",
      "(644, 600, 3)\n",
      "/home/pyimagesearch/Desktop/SIGNATURE/CUTTER/5.jpg\n",
      "(1600, 1164, 3)\n",
      "/home/pyimagesearch/Desktop/SIGNATURE/CUTTER/2.png\n",
      "(665, 731, 3)\n",
      "/home/pyimagesearch/Desktop/SIGNATURE/CUTTER/03.png\n",
      "(694, 1374, 3)\n",
      "/home/pyimagesearch/Desktop/SIGNATURE/CUTTER/BARC.jpg\n",
      "(806, 698, 3)\n",
      "/home/pyimagesearch/Desktop/SIGNATURE/CUTTER/1.jpg\n",
      "(455, 606, 3)\n",
      "/home/pyimagesearch/Desktop/SIGNATURE/CUTTER/4.jpg\n",
      "(1294, 1769, 3)\n",
      "/home/pyimagesearch/Desktop/SIGNATURE/CUTTER/6.png\n",
      "(189, 419, 3)\n",
      "/home/pyimagesearch/Desktop/SIGNATURE/CUTTER/01.png\n",
      "(1562, 2328, 3)\n"
     ]
    }
   ],
   "source": [
    "c=0\n",
    "for i in (images):\n",
    "    print(i)\n",
    "    c=c+1\n",
    "    img = cv2.imread(i, 1)    \n",
    "    print(img.shape)\n",
    "    for j in range (1,200):\n",
    "        x = round(random.random()*img.shape[0])\n",
    "        y = round(random.random()*img.shape[1])    \n",
    "        #plt.imshow(img[0:x,0:y])\n",
    "        if (y/(x+0.000000000001) > 1.5):\n",
    "            file = images_path+ str(c)+ str(j) + \".png\"\n",
    "            cv2.imwrite(file,img[x:x+50,y:y+200])"
   ]
  },
  {
   "cell_type": "code",
   "execution_count": null,
   "metadata": {},
   "outputs": [],
   "source": []
  },
  {
   "cell_type": "code",
   "execution_count": null,
   "metadata": {},
   "outputs": [],
   "source": []
  }
 ],
 "metadata": {
  "kernelspec": {
   "display_name": "Python 3",
   "language": "python",
   "name": "python3"
  },
  "language_info": {
   "codemirror_mode": {
    "name": "ipython",
    "version": 3
   },
   "file_extension": ".py",
   "mimetype": "text/x-python",
   "name": "python",
   "nbconvert_exporter": "python",
   "pygments_lexer": "ipython3",
   "version": "3.5.2"
  }
 },
 "nbformat": 4,
 "nbformat_minor": 2
}
