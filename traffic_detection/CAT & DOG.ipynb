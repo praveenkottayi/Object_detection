{
 "cells": [
  {
   "cell_type": "markdown",
   "metadata": {},
   "source": [
    "# Cat and dog classification with various classifier algorithms"
   ]
  },
  {
   "cell_type": "markdown",
   "metadata": {},
   "source": [
    "## import req. libraries"
   ]
  },
  {
   "cell_type": "code",
   "execution_count": 48,
   "metadata": {},
   "outputs": [],
   "source": [
    "# import the necessary packages\n",
    "from sklearn.cross_validation import train_test_split\n",
    "from imutils import paths\n",
    "import numpy as np\n",
    "import argparse\n",
    "import imutils # by adrian\n",
    "import cv2\n",
    "import os"
   ]
  },
  {
   "cell_type": "markdown",
   "metadata": {},
   "source": [
    "## define functions"
   ]
  },
  {
   "cell_type": "code",
   "execution_count": 49,
   "metadata": {
    "collapsed": true
   },
   "outputs": [],
   "source": [
    "def image_to_feature_vector(image, size=(32, 32)):\n",
    "\t# resize the image to a fixed size, then flatten the image into\n",
    "\t# a list of raw pixel intensities\n",
    "\treturn cv2.resize(image, size).flatten()\n",
    "\t\n",
    "\t\n",
    "def extract_color_histogram(image, bins=(8, 8, 8)):\n",
    "\t# extract a 3D color histogram from the HSV color space using\n",
    "\t# the supplied number of `bins` per channel\n",
    "\thsv = cv2.cvtColor(image, cv2.COLOR_BGR2HSV)\n",
    "\thist = cv2.calcHist([hsv], [0, 1, 2], None, bins,\n",
    "\t\t[0, 180, 0, 256, 0, 256])\n",
    " \n",
    "\t# handle normalizing the histogram if we are using OpenCV 2.4.X\n",
    "\tif imutils.is_cv2():\n",
    "\t\thist = cv2.normalize(hist)\n",
    " \n",
    "\t# otherwise, perform \"in place\" normalization in OpenCV 3 (I\n",
    "\t# personally hate the way this is done\n",
    "\telse:\n",
    "\t\tcv2.normalize(hist, hist)\n",
    " \n",
    "\t# return the flattened histogram as the feature vector\n",
    "\treturn hist.flatten()"
   ]
  },
  {
   "cell_type": "markdown",
   "metadata": {},
   "source": [
    "## read images "
   ]
  },
  {
   "cell_type": "code",
   "execution_count": 50,
   "metadata": {},
   "outputs": [
    {
     "name": "stdout",
     "output_type": "stream",
     "text": [
      "[INFO] describing images...\n",
      "['Cat_vs_Dog/cat.0.jpg', 'Cat_vs_Dog/cat.1.jpg', 'Cat_vs_Dog/cat.10.jpg', 'Cat_vs_Dog/cat.100.jpg', 'Cat_vs_Dog/cat.1000.jpg', 'Cat_vs_Dog/cat.1001.jpg', 'Cat_vs_Dog/cat.1002.jpg', 'Cat_vs_Dog/cat.1003.jpg', 'Cat_vs_Dog/cat.1004.jpg', 'Cat_vs_Dog/cat.1005.jpg', 'Cat_vs_Dog/cat.1006.jpg', 'Cat_vs_Dog/cat.1007.jpg', 'Cat_vs_Dog/cat.1008.jpg', 'Cat_vs_Dog/cat.1009.jpg', 'Cat_vs_Dog/cat.101.jpg', 'Cat_vs_Dog/cat.1010.jpg', 'Cat_vs_Dog/cat.1011.jpg', 'Cat_vs_Dog/cat.1012.jpg', 'Cat_vs_Dog/cat.1013.jpg', 'Cat_vs_Dog/cat.1014.jpg', 'Cat_vs_Dog/cat.1015.jpg', 'Cat_vs_Dog/cat.1016.jpg', 'Cat_vs_Dog/cat.1017.jpg', 'Cat_vs_Dog/cat.1018.jpg', 'Cat_vs_Dog/cat.1019.jpg', 'Cat_vs_Dog/cat.102.jpg', 'Cat_vs_Dog/cat.1020.jpg', 'Cat_vs_Dog/cat.1021.jpg', 'Cat_vs_Dog/cat.103.jpg', 'Cat_vs_Dog/cat.104.jpg', 'Cat_vs_Dog/cat.105.jpg', 'Cat_vs_Dog/cat.106.jpg', 'Cat_vs_Dog/cat.107.jpg', 'Cat_vs_Dog/cat.108.jpg', 'Cat_vs_Dog/cat.109.jpg', 'Cat_vs_Dog/cat.11.jpg', 'Cat_vs_Dog/cat.110.jpg', 'Cat_vs_Dog/cat.111.jpg', 'Cat_vs_Dog/cat.112.jpg', 'Cat_vs_Dog/cat.113.jpg', 'Cat_vs_Dog/cat.114.jpg', 'Cat_vs_Dog/cat.115.jpg', 'Cat_vs_Dog/cat.116.jpg', 'Cat_vs_Dog/cat.117.jpg', 'Cat_vs_Dog/cat.118.jpg', 'Cat_vs_Dog/cat.119.jpg', 'Cat_vs_Dog/cat.12.jpg', 'Cat_vs_Dog/cat.120.jpg', 'Cat_vs_Dog/cat.121.jpg', 'Cat_vs_Dog/cat.122.jpg', 'Cat_vs_Dog/cat.123.jpg', 'Cat_vs_Dog/cat.124.jpg', 'Cat_vs_Dog/cat.125.jpg', 'Cat_vs_Dog/cat.126.jpg', 'Cat_vs_Dog/cat.127.jpg', 'Cat_vs_Dog/cat.128.jpg', 'Cat_vs_Dog/cat.129.jpg', 'Cat_vs_Dog/cat.13.jpg', 'Cat_vs_Dog/cat.130.jpg', 'Cat_vs_Dog/cat.131.jpg', 'Cat_vs_Dog/cat.132.jpg', 'Cat_vs_Dog/cat.133.jpg', 'Cat_vs_Dog/cat.134.jpg', 'Cat_vs_Dog/cat.135.jpg', 'Cat_vs_Dog/cat.136.jpg', 'Cat_vs_Dog/cat.137.jpg', 'Cat_vs_Dog/cat.138.jpg', 'Cat_vs_Dog/cat.139.jpg', 'Cat_vs_Dog/cat.14.jpg', 'Cat_vs_Dog/cat.140.jpg', 'Cat_vs_Dog/cat.141.jpg', 'Cat_vs_Dog/cat.142.jpg', 'Cat_vs_Dog/cat.143.jpg', 'Cat_vs_Dog/cat.144.jpg', 'Cat_vs_Dog/cat.145.jpg', 'Cat_vs_Dog/cat.146.jpg', 'Cat_vs_Dog/cat.147.jpg', 'Cat_vs_Dog/cat.148.jpg', 'Cat_vs_Dog/cat.149.jpg', 'Cat_vs_Dog/cat.15.jpg', 'Cat_vs_Dog/cat.150.jpg', 'Cat_vs_Dog/cat.151.jpg', 'Cat_vs_Dog/cat.152.jpg', 'Cat_vs_Dog/cat.153.jpg', 'Cat_vs_Dog/cat.154.jpg', 'Cat_vs_Dog/cat.155.jpg', 'Cat_vs_Dog/cat.156.jpg', 'Cat_vs_Dog/cat.157.jpg', 'Cat_vs_Dog/cat.158.jpg', 'Cat_vs_Dog/cat.159.jpg', 'Cat_vs_Dog/cat.16.jpg', 'Cat_vs_Dog/cat.160.jpg', 'Cat_vs_Dog/cat.161.jpg', 'Cat_vs_Dog/cat.162.jpg', 'Cat_vs_Dog/cat.163.jpg', 'Cat_vs_Dog/cat.164.jpg', 'Cat_vs_Dog/cat.165.jpg', 'Cat_vs_Dog/cat.166.jpg', 'Cat_vs_Dog/cat.167.jpg', 'Cat_vs_Dog/cat.168.jpg', 'Cat_vs_Dog/cat.169.jpg', 'Cat_vs_Dog/cat.17.jpg', 'Cat_vs_Dog/cat.170.jpg', 'Cat_vs_Dog/cat.171.jpg', 'Cat_vs_Dog/cat.172.jpg', 'Cat_vs_Dog/cat.173.jpg', 'Cat_vs_Dog/cat.174.jpg', 'Cat_vs_Dog/cat.175.jpg', 'Cat_vs_Dog/cat.176.jpg', 'Cat_vs_Dog/cat.177.jpg', 'Cat_vs_Dog/cat.178.jpg', 'Cat_vs_Dog/cat.179.jpg', 'Cat_vs_Dog/cat.18.jpg', 'Cat_vs_Dog/cat.180.jpg', 'Cat_vs_Dog/cat.181.jpg', 'Cat_vs_Dog/cat.182.jpg', 'Cat_vs_Dog/cat.183.jpg', 'Cat_vs_Dog/cat.184.jpg', 'Cat_vs_Dog/cat.185.jpg', 'Cat_vs_Dog/cat.186.jpg', 'Cat_vs_Dog/cat.187.jpg', 'Cat_vs_Dog/cat.188.jpg', 'Cat_vs_Dog/cat.189.jpg', 'Cat_vs_Dog/cat.19.jpg', 'Cat_vs_Dog/cat.190.jpg', 'Cat_vs_Dog/cat.191.jpg', 'Cat_vs_Dog/cat.192.jpg', 'Cat_vs_Dog/cat.193.jpg', 'Cat_vs_Dog/cat.194.jpg', 'Cat_vs_Dog/cat.195.jpg', 'Cat_vs_Dog/cat.196.jpg', 'Cat_vs_Dog/cat.197.jpg', 'Cat_vs_Dog/cat.198.jpg', 'Cat_vs_Dog/cat.199.jpg', 'Cat_vs_Dog/cat.2.jpg', 'Cat_vs_Dog/cat.20.jpg', 'Cat_vs_Dog/cat.200.jpg', 'Cat_vs_Dog/cat.201.jpg', 'Cat_vs_Dog/cat.202.jpg', 'Cat_vs_Dog/cat.203.jpg', 'Cat_vs_Dog/cat.204.jpg', 'Cat_vs_Dog/cat.205.jpg', 'Cat_vs_Dog/cat.206.jpg', 'Cat_vs_Dog/cat.207.jpg', 'Cat_vs_Dog/cat.208.jpg', 'Cat_vs_Dog/cat.209.jpg', 'Cat_vs_Dog/cat.21.jpg', 'Cat_vs_Dog/cat.210.jpg', 'Cat_vs_Dog/cat.211.jpg', 'Cat_vs_Dog/cat.212.jpg', 'Cat_vs_Dog/cat.213.jpg', 'Cat_vs_Dog/cat.214.jpg', 'Cat_vs_Dog/cat.215.jpg', 'Cat_vs_Dog/cat.216.jpg', 'Cat_vs_Dog/cat.217.jpg', 'Cat_vs_Dog/cat.218.jpg', 'Cat_vs_Dog/cat.219.jpg', 'Cat_vs_Dog/cat.22.jpg', 'Cat_vs_Dog/cat.220.jpg', 'Cat_vs_Dog/cat.221.jpg', 'Cat_vs_Dog/cat.222.jpg', 'Cat_vs_Dog/cat.223.jpg', 'Cat_vs_Dog/cat.224.jpg', 'Cat_vs_Dog/cat.225.jpg', 'Cat_vs_Dog/cat.226.jpg', 'Cat_vs_Dog/cat.227.jpg', 'Cat_vs_Dog/cat.228.jpg', 'Cat_vs_Dog/cat.229.jpg', 'Cat_vs_Dog/cat.23.jpg', 'Cat_vs_Dog/cat.230.jpg', 'Cat_vs_Dog/cat.231.jpg', 'Cat_vs_Dog/cat.232.jpg', 'Cat_vs_Dog/cat.233.jpg', 'Cat_vs_Dog/cat.234.jpg', 'Cat_vs_Dog/cat.235.jpg', 'Cat_vs_Dog/cat.236.jpg', 'Cat_vs_Dog/cat.237.jpg', 'Cat_vs_Dog/cat.238.jpg', 'Cat_vs_Dog/cat.239.jpg', 'Cat_vs_Dog/cat.24.jpg', 'Cat_vs_Dog/cat.240.jpg', 'Cat_vs_Dog/cat.241.jpg', 'Cat_vs_Dog/cat.242.jpg', 'Cat_vs_Dog/cat.243.jpg', 'Cat_vs_Dog/cat.244.jpg', 'Cat_vs_Dog/cat.245.jpg', 'Cat_vs_Dog/cat.246.jpg', 'Cat_vs_Dog/cat.247.jpg', 'Cat_vs_Dog/cat.248.jpg', 'Cat_vs_Dog/cat.249.jpg', 'Cat_vs_Dog/cat.25.jpg', 'Cat_vs_Dog/cat.250.jpg', 'Cat_vs_Dog/cat.251.jpg', 'Cat_vs_Dog/cat.252.jpg', 'Cat_vs_Dog/cat.253.jpg', 'Cat_vs_Dog/cat.254.jpg', 'Cat_vs_Dog/cat.255.jpg', 'Cat_vs_Dog/cat.256.jpg', 'Cat_vs_Dog/cat.257.jpg', 'Cat_vs_Dog/cat.258.jpg', 'Cat_vs_Dog/cat.259.jpg', 'Cat_vs_Dog/cat.26.jpg', 'Cat_vs_Dog/cat.260.jpg', 'Cat_vs_Dog/cat.261.jpg', 'Cat_vs_Dog/cat.262.jpg', 'Cat_vs_Dog/cat.263.jpg', 'Cat_vs_Dog/cat.264.jpg', 'Cat_vs_Dog/cat.265.jpg', 'Cat_vs_Dog/cat.266.jpg', 'Cat_vs_Dog/cat.267.jpg', 'Cat_vs_Dog/cat.268.jpg', 'Cat_vs_Dog/cat.269.jpg', 'Cat_vs_Dog/cat.27.jpg', 'Cat_vs_Dog/cat.270.jpg', 'Cat_vs_Dog/cat.271.jpg', 'Cat_vs_Dog/cat.272.jpg', 'Cat_vs_Dog/cat.273.jpg', 'Cat_vs_Dog/cat.274.jpg', 'Cat_vs_Dog/cat.275.jpg', 'Cat_vs_Dog/cat.276.jpg', 'Cat_vs_Dog/cat.277.jpg', 'Cat_vs_Dog/cat.278.jpg', 'Cat_vs_Dog/cat.279.jpg', 'Cat_vs_Dog/cat.28.jpg', 'Cat_vs_Dog/cat.280.jpg', 'Cat_vs_Dog/cat.281.jpg', 'Cat_vs_Dog/cat.282.jpg', 'Cat_vs_Dog/cat.283.jpg', 'Cat_vs_Dog/cat.284.jpg', 'Cat_vs_Dog/cat.285.jpg', 'Cat_vs_Dog/cat.286.jpg', 'Cat_vs_Dog/cat.287.jpg', 'Cat_vs_Dog/cat.288.jpg', 'Cat_vs_Dog/cat.289.jpg', 'Cat_vs_Dog/cat.29.jpg', 'Cat_vs_Dog/cat.290.jpg', 'Cat_vs_Dog/cat.291.jpg', 'Cat_vs_Dog/cat.292.jpg', 'Cat_vs_Dog/cat.293.jpg', 'Cat_vs_Dog/cat.294.jpg', 'Cat_vs_Dog/cat.295.jpg', 'Cat_vs_Dog/cat.296.jpg', 'Cat_vs_Dog/cat.297.jpg', 'Cat_vs_Dog/cat.298.jpg', 'Cat_vs_Dog/cat.299.jpg', 'Cat_vs_Dog/cat.3.jpg', 'Cat_vs_Dog/cat.30.jpg', 'Cat_vs_Dog/cat.300.jpg', 'Cat_vs_Dog/cat.301.jpg', 'Cat_vs_Dog/cat.302.jpg', 'Cat_vs_Dog/cat.303.jpg', 'Cat_vs_Dog/cat.304.jpg', 'Cat_vs_Dog/cat.305.jpg', 'Cat_vs_Dog/cat.306.jpg', 'Cat_vs_Dog/cat.307.jpg', 'Cat_vs_Dog/cat.308.jpg', 'Cat_vs_Dog/cat.309.jpg', 'Cat_vs_Dog/cat.31.jpg', 'Cat_vs_Dog/cat.310.jpg', 'Cat_vs_Dog/cat.311.jpg', 'Cat_vs_Dog/cat.312.jpg', 'Cat_vs_Dog/cat.313.jpg', 'Cat_vs_Dog/cat.314.jpg', 'Cat_vs_Dog/cat.315.jpg', 'Cat_vs_Dog/cat.316.jpg', 'Cat_vs_Dog/cat.317.jpg', 'Cat_vs_Dog/cat.318.jpg', 'Cat_vs_Dog/cat.319.jpg', 'Cat_vs_Dog/cat.32.jpg', 'Cat_vs_Dog/cat.320.jpg', 'Cat_vs_Dog/cat.321.jpg', 'Cat_vs_Dog/cat.322.jpg', 'Cat_vs_Dog/cat.323.jpg', 'Cat_vs_Dog/cat.324.jpg', 'Cat_vs_Dog/cat.325.jpg', 'Cat_vs_Dog/cat.326.jpg', 'Cat_vs_Dog/cat.327.jpg', 'Cat_vs_Dog/cat.328.jpg', 'Cat_vs_Dog/cat.329.jpg', 'Cat_vs_Dog/cat.33.jpg', 'Cat_vs_Dog/cat.330.jpg', 'Cat_vs_Dog/cat.331.jpg', 'Cat_vs_Dog/cat.332.jpg', 'Cat_vs_Dog/cat.333.jpg', 'Cat_vs_Dog/cat.334.jpg', 'Cat_vs_Dog/cat.335.jpg', 'Cat_vs_Dog/cat.336.jpg', 'Cat_vs_Dog/cat.337.jpg', 'Cat_vs_Dog/cat.338.jpg', 'Cat_vs_Dog/cat.339.jpg', 'Cat_vs_Dog/cat.34.jpg', 'Cat_vs_Dog/cat.340.jpg', 'Cat_vs_Dog/cat.341.jpg', 'Cat_vs_Dog/cat.342.jpg', 'Cat_vs_Dog/cat.343.jpg', 'Cat_vs_Dog/cat.344.jpg', 'Cat_vs_Dog/cat.345.jpg', 'Cat_vs_Dog/cat.346.jpg', 'Cat_vs_Dog/cat.347.jpg', 'Cat_vs_Dog/cat.348.jpg', 'Cat_vs_Dog/cat.349.jpg', 'Cat_vs_Dog/cat.35.jpg', 'Cat_vs_Dog/cat.350.jpg', 'Cat_vs_Dog/cat.351.jpg', 'Cat_vs_Dog/cat.352.jpg', 'Cat_vs_Dog/cat.353.jpg', 'Cat_vs_Dog/cat.354.jpg', 'Cat_vs_Dog/cat.355.jpg', 'Cat_vs_Dog/cat.356.jpg', 'Cat_vs_Dog/cat.357.jpg', 'Cat_vs_Dog/cat.358.jpg', 'Cat_vs_Dog/cat.359.jpg', 'Cat_vs_Dog/cat.36.jpg', 'Cat_vs_Dog/cat.360.jpg', 'Cat_vs_Dog/cat.361.jpg', 'Cat_vs_Dog/cat.362.jpg', 'Cat_vs_Dog/cat.363.jpg', 'Cat_vs_Dog/cat.364.jpg', 'Cat_vs_Dog/cat.365.jpg', 'Cat_vs_Dog/cat.366.jpg', 'Cat_vs_Dog/cat.367.jpg', 'Cat_vs_Dog/cat.368.jpg', 'Cat_vs_Dog/cat.369.jpg', 'Cat_vs_Dog/cat.37.jpg', 'Cat_vs_Dog/cat.370.jpg', 'Cat_vs_Dog/cat.371.jpg', 'Cat_vs_Dog/cat.372.jpg', 'Cat_vs_Dog/cat.373.jpg', 'Cat_vs_Dog/cat.374.jpg', 'Cat_vs_Dog/cat.375.jpg', 'Cat_vs_Dog/cat.376.jpg', 'Cat_vs_Dog/cat.377.jpg', 'Cat_vs_Dog/cat.378.jpg', 'Cat_vs_Dog/cat.379.jpg', 'Cat_vs_Dog/cat.38.jpg', 'Cat_vs_Dog/cat.380.jpg', 'Cat_vs_Dog/cat.381.jpg', 'Cat_vs_Dog/cat.382.jpg', 'Cat_vs_Dog/cat.383.jpg', 'Cat_vs_Dog/cat.384.jpg', 'Cat_vs_Dog/cat.385.jpg', 'Cat_vs_Dog/cat.386.jpg', 'Cat_vs_Dog/cat.387.jpg', 'Cat_vs_Dog/cat.388.jpg', 'Cat_vs_Dog/cat.389.jpg', 'Cat_vs_Dog/cat.39.jpg', 'Cat_vs_Dog/cat.390.jpg', 'Cat_vs_Dog/cat.391.jpg', 'Cat_vs_Dog/cat.392.jpg', 'Cat_vs_Dog/cat.393.jpg', 'Cat_vs_Dog/cat.394.jpg', 'Cat_vs_Dog/cat.395.jpg', 'Cat_vs_Dog/cat.396.jpg', 'Cat_vs_Dog/cat.397.jpg', 'Cat_vs_Dog/cat.398.jpg', 'Cat_vs_Dog/cat.399.jpg', 'Cat_vs_Dog/cat.4.jpg', 'Cat_vs_Dog/cat.40.jpg', 'Cat_vs_Dog/cat.400.jpg', 'Cat_vs_Dog/cat.401.jpg', 'Cat_vs_Dog/cat.402.jpg', 'Cat_vs_Dog/cat.403.jpg', 'Cat_vs_Dog/cat.404.jpg', 'Cat_vs_Dog/cat.405.jpg', 'Cat_vs_Dog/cat.406.jpg', 'Cat_vs_Dog/cat.407.jpg', 'Cat_vs_Dog/cat.408.jpg', 'Cat_vs_Dog/cat.409.jpg', 'Cat_vs_Dog/cat.41.jpg', 'Cat_vs_Dog/cat.410.jpg', 'Cat_vs_Dog/cat.411.jpg', 'Cat_vs_Dog/cat.412.jpg', 'Cat_vs_Dog/cat.413.jpg', 'Cat_vs_Dog/cat.414.jpg', 'Cat_vs_Dog/cat.415.jpg', 'Cat_vs_Dog/cat.416.jpg', 'Cat_vs_Dog/cat.417.jpg', 'Cat_vs_Dog/cat.418.jpg', 'Cat_vs_Dog/cat.419.jpg', 'Cat_vs_Dog/cat.42.jpg', 'Cat_vs_Dog/cat.420.jpg', 'Cat_vs_Dog/cat.421.jpg', 'Cat_vs_Dog/cat.422.jpg', 'Cat_vs_Dog/cat.423.jpg', 'Cat_vs_Dog/cat.424.jpg', 'Cat_vs_Dog/cat.425.jpg', 'Cat_vs_Dog/cat.426.jpg', 'Cat_vs_Dog/cat.427.jpg', 'Cat_vs_Dog/cat.428.jpg', 'Cat_vs_Dog/cat.429.jpg', 'Cat_vs_Dog/cat.43.jpg', 'Cat_vs_Dog/cat.430.jpg', 'Cat_vs_Dog/cat.431.jpg', 'Cat_vs_Dog/cat.432.jpg', 'Cat_vs_Dog/cat.433.jpg', 'Cat_vs_Dog/cat.434.jpg', 'Cat_vs_Dog/cat.435.jpg', 'Cat_vs_Dog/cat.436.jpg', 'Cat_vs_Dog/cat.437.jpg', 'Cat_vs_Dog/cat.438.jpg', 'Cat_vs_Dog/cat.439.jpg', 'Cat_vs_Dog/cat.44.jpg', 'Cat_vs_Dog/cat.440.jpg', 'Cat_vs_Dog/cat.441.jpg', 'Cat_vs_Dog/cat.442.jpg', 'Cat_vs_Dog/cat.443.jpg', 'Cat_vs_Dog/cat.444.jpg', 'Cat_vs_Dog/cat.445.jpg', 'Cat_vs_Dog/cat.446.jpg', 'Cat_vs_Dog/cat.447.jpg', 'Cat_vs_Dog/cat.448.jpg', 'Cat_vs_Dog/cat.449.jpg', 'Cat_vs_Dog/cat.45.jpg', 'Cat_vs_Dog/cat.450.jpg', 'Cat_vs_Dog/cat.451.jpg', 'Cat_vs_Dog/cat.452.jpg', 'Cat_vs_Dog/cat.453.jpg', 'Cat_vs_Dog/cat.454.jpg', 'Cat_vs_Dog/cat.455.jpg', 'Cat_vs_Dog/cat.456.jpg', 'Cat_vs_Dog/cat.457.jpg', 'Cat_vs_Dog/cat.458.jpg', 'Cat_vs_Dog/cat.459.jpg', 'Cat_vs_Dog/cat.46.jpg', 'Cat_vs_Dog/cat.460.jpg', 'Cat_vs_Dog/cat.461.jpg', 'Cat_vs_Dog/cat.462.jpg', 'Cat_vs_Dog/cat.463.jpg', 'Cat_vs_Dog/cat.464.jpg', 'Cat_vs_Dog/cat.465.jpg', 'Cat_vs_Dog/cat.466.jpg', 'Cat_vs_Dog/cat.467.jpg', 'Cat_vs_Dog/cat.468.jpg', 'Cat_vs_Dog/cat.469.jpg', 'Cat_vs_Dog/cat.47.jpg', 'Cat_vs_Dog/cat.470.jpg', 'Cat_vs_Dog/cat.471.jpg', 'Cat_vs_Dog/cat.472.jpg', 'Cat_vs_Dog/cat.473.jpg', 'Cat_vs_Dog/cat.474.jpg', 'Cat_vs_Dog/cat.475.jpg', 'Cat_vs_Dog/cat.476.jpg', 'Cat_vs_Dog/cat.477.jpg', 'Cat_vs_Dog/cat.478.jpg', 'Cat_vs_Dog/cat.479.jpg', 'Cat_vs_Dog/cat.48.jpg', 'Cat_vs_Dog/cat.480.jpg', 'Cat_vs_Dog/cat.481.jpg', 'Cat_vs_Dog/cat.482.jpg', 'Cat_vs_Dog/cat.483.jpg', 'Cat_vs_Dog/cat.484.jpg', 'Cat_vs_Dog/cat.485.jpg', 'Cat_vs_Dog/cat.486.jpg', 'Cat_vs_Dog/cat.487.jpg', 'Cat_vs_Dog/cat.488.jpg', 'Cat_vs_Dog/cat.489.jpg', 'Cat_vs_Dog/cat.49.jpg', 'Cat_vs_Dog/cat.490.jpg', 'Cat_vs_Dog/cat.491.jpg', 'Cat_vs_Dog/cat.492.jpg', 'Cat_vs_Dog/cat.493.jpg', 'Cat_vs_Dog/cat.494.jpg', 'Cat_vs_Dog/cat.495.jpg', 'Cat_vs_Dog/cat.496.jpg', 'Cat_vs_Dog/cat.497.jpg', 'Cat_vs_Dog/cat.498.jpg', 'Cat_vs_Dog/cat.499.jpg', 'Cat_vs_Dog/cat.5.jpg', 'Cat_vs_Dog/cat.50.jpg', 'Cat_vs_Dog/cat.500.jpg', 'Cat_vs_Dog/cat.501.jpg', 'Cat_vs_Dog/cat.502.jpg', 'Cat_vs_Dog/cat.503.jpg', 'Cat_vs_Dog/cat.504.jpg', 'Cat_vs_Dog/cat.505.jpg', 'Cat_vs_Dog/cat.506.jpg', 'Cat_vs_Dog/cat.507.jpg', 'Cat_vs_Dog/cat.508.jpg', 'Cat_vs_Dog/cat.509.jpg', 'Cat_vs_Dog/cat.51.jpg', 'Cat_vs_Dog/cat.510.jpg', 'Cat_vs_Dog/cat.511.jpg', 'Cat_vs_Dog/cat.512.jpg', 'Cat_vs_Dog/cat.513.jpg', 'Cat_vs_Dog/cat.514.jpg', 'Cat_vs_Dog/cat.515.jpg', 'Cat_vs_Dog/cat.516.jpg', 'Cat_vs_Dog/cat.517.jpg', 'Cat_vs_Dog/cat.518.jpg', 'Cat_vs_Dog/cat.519.jpg', 'Cat_vs_Dog/cat.52.jpg', 'Cat_vs_Dog/cat.520.jpg', 'Cat_vs_Dog/cat.521.jpg', 'Cat_vs_Dog/cat.522.jpg', 'Cat_vs_Dog/cat.523.jpg', 'Cat_vs_Dog/cat.524.jpg', 'Cat_vs_Dog/cat.525.jpg', 'Cat_vs_Dog/cat.526.jpg', 'Cat_vs_Dog/cat.527.jpg', 'Cat_vs_Dog/cat.528.jpg', 'Cat_vs_Dog/cat.529.jpg', 'Cat_vs_Dog/cat.53.jpg', 'Cat_vs_Dog/cat.530.jpg', 'Cat_vs_Dog/cat.531.jpg', 'Cat_vs_Dog/cat.532.jpg', 'Cat_vs_Dog/cat.533.jpg', 'Cat_vs_Dog/cat.534.jpg', 'Cat_vs_Dog/cat.535.jpg', 'Cat_vs_Dog/cat.536.jpg', 'Cat_vs_Dog/cat.537.jpg', 'Cat_vs_Dog/cat.538.jpg', 'Cat_vs_Dog/cat.539.jpg', 'Cat_vs_Dog/cat.54.jpg', 'Cat_vs_Dog/cat.540.jpg', 'Cat_vs_Dog/cat.541.jpg', 'Cat_vs_Dog/cat.542.jpg', 'Cat_vs_Dog/cat.543.jpg', 'Cat_vs_Dog/cat.544.jpg', 'Cat_vs_Dog/cat.545.jpg', 'Cat_vs_Dog/cat.546.jpg', 'Cat_vs_Dog/cat.547.jpg', 'Cat_vs_Dog/cat.548.jpg', 'Cat_vs_Dog/cat.549.jpg', 'Cat_vs_Dog/cat.55.jpg', 'Cat_vs_Dog/cat.550.jpg', 'Cat_vs_Dog/cat.551.jpg', 'Cat_vs_Dog/cat.552.jpg', 'Cat_vs_Dog/cat.553.jpg', 'Cat_vs_Dog/cat.554.jpg', 'Cat_vs_Dog/cat.555.jpg', 'Cat_vs_Dog/cat.556.jpg', 'Cat_vs_Dog/cat.557.jpg', 'Cat_vs_Dog/cat.558.jpg', 'Cat_vs_Dog/cat.559.jpg', 'Cat_vs_Dog/cat.56.jpg', 'Cat_vs_Dog/cat.560.jpg', 'Cat_vs_Dog/cat.561.jpg', 'Cat_vs_Dog/cat.562.jpg', 'Cat_vs_Dog/cat.563.jpg', 'Cat_vs_Dog/cat.564.jpg', 'Cat_vs_Dog/cat.565.jpg', 'Cat_vs_Dog/cat.566.jpg', 'Cat_vs_Dog/cat.567.jpg', 'Cat_vs_Dog/cat.568.jpg', 'Cat_vs_Dog/cat.569.jpg', 'Cat_vs_Dog/cat.57.jpg', 'Cat_vs_Dog/cat.570.jpg', 'Cat_vs_Dog/cat.571.jpg', 'Cat_vs_Dog/cat.572.jpg', 'Cat_vs_Dog/cat.573.jpg', 'Cat_vs_Dog/cat.574.jpg', 'Cat_vs_Dog/cat.575.jpg', 'Cat_vs_Dog/cat.576.jpg', 'Cat_vs_Dog/cat.577.jpg', 'Cat_vs_Dog/cat.578.jpg', 'Cat_vs_Dog/cat.579.jpg', 'Cat_vs_Dog/cat.58.jpg', 'Cat_vs_Dog/cat.580.jpg', 'Cat_vs_Dog/cat.581.jpg', 'Cat_vs_Dog/cat.582.jpg', 'Cat_vs_Dog/cat.583.jpg', 'Cat_vs_Dog/cat.584.jpg', 'Cat_vs_Dog/cat.585.jpg', 'Cat_vs_Dog/cat.586.jpg', 'Cat_vs_Dog/cat.587.jpg', 'Cat_vs_Dog/cat.588.jpg', 'Cat_vs_Dog/cat.589.jpg', 'Cat_vs_Dog/cat.59.jpg', 'Cat_vs_Dog/cat.590.jpg', 'Cat_vs_Dog/cat.591.jpg', 'Cat_vs_Dog/cat.592.jpg', 'Cat_vs_Dog/cat.593.jpg', 'Cat_vs_Dog/cat.594.jpg', 'Cat_vs_Dog/cat.595.jpg', 'Cat_vs_Dog/cat.596.jpg', 'Cat_vs_Dog/cat.597.jpg', 'Cat_vs_Dog/cat.598.jpg', 'Cat_vs_Dog/cat.599.jpg', 'Cat_vs_Dog/cat.6.jpg', 'Cat_vs_Dog/cat.60.jpg', 'Cat_vs_Dog/cat.600.jpg', 'Cat_vs_Dog/cat.601.jpg', 'Cat_vs_Dog/cat.602.jpg', 'Cat_vs_Dog/cat.603.jpg', 'Cat_vs_Dog/cat.604.jpg', 'Cat_vs_Dog/cat.605.jpg', 'Cat_vs_Dog/cat.606.jpg', 'Cat_vs_Dog/cat.607.jpg', 'Cat_vs_Dog/cat.608.jpg', 'Cat_vs_Dog/cat.609.jpg', 'Cat_vs_Dog/cat.61.jpg', 'Cat_vs_Dog/cat.610.jpg', 'Cat_vs_Dog/cat.611.jpg', 'Cat_vs_Dog/cat.612.jpg', 'Cat_vs_Dog/cat.613.jpg', 'Cat_vs_Dog/cat.614.jpg', 'Cat_vs_Dog/cat.615.jpg', 'Cat_vs_Dog/cat.616.jpg', 'Cat_vs_Dog/cat.617.jpg', 'Cat_vs_Dog/cat.618.jpg', 'Cat_vs_Dog/cat.619.jpg', 'Cat_vs_Dog/cat.62.jpg', 'Cat_vs_Dog/cat.620.jpg', 'Cat_vs_Dog/cat.621.jpg', 'Cat_vs_Dog/cat.622.jpg', 'Cat_vs_Dog/cat.623.jpg', 'Cat_vs_Dog/cat.624.jpg', 'Cat_vs_Dog/cat.625.jpg', 'Cat_vs_Dog/cat.626.jpg', 'Cat_vs_Dog/cat.627.jpg', 'Cat_vs_Dog/cat.628.jpg', 'Cat_vs_Dog/cat.629.jpg', 'Cat_vs_Dog/cat.63.jpg', 'Cat_vs_Dog/cat.630.jpg', 'Cat_vs_Dog/cat.631.jpg', 'Cat_vs_Dog/cat.632.jpg', 'Cat_vs_Dog/cat.633.jpg', 'Cat_vs_Dog/cat.634.jpg', 'Cat_vs_Dog/cat.635.jpg', 'Cat_vs_Dog/cat.636.jpg', 'Cat_vs_Dog/cat.637.jpg', 'Cat_vs_Dog/cat.638.jpg', 'Cat_vs_Dog/cat.639.jpg', 'Cat_vs_Dog/cat.64.jpg', 'Cat_vs_Dog/cat.640.jpg', 'Cat_vs_Dog/cat.641.jpg', 'Cat_vs_Dog/cat.642.jpg', 'Cat_vs_Dog/cat.643.jpg', 'Cat_vs_Dog/cat.644.jpg', 'Cat_vs_Dog/cat.645.jpg', 'Cat_vs_Dog/cat.646.jpg', 'Cat_vs_Dog/cat.647.jpg', 'Cat_vs_Dog/cat.648.jpg', 'Cat_vs_Dog/cat.649.jpg', 'Cat_vs_Dog/cat.65.jpg', 'Cat_vs_Dog/cat.650.jpg', 'Cat_vs_Dog/cat.651.jpg', 'Cat_vs_Dog/cat.652.jpg', 'Cat_vs_Dog/cat.653.jpg', 'Cat_vs_Dog/cat.654.jpg', 'Cat_vs_Dog/cat.655.jpg', 'Cat_vs_Dog/cat.656.jpg', 'Cat_vs_Dog/cat.657.jpg', 'Cat_vs_Dog/cat.658.jpg', 'Cat_vs_Dog/cat.659.jpg', 'Cat_vs_Dog/cat.66.jpg', 'Cat_vs_Dog/cat.660.jpg', 'Cat_vs_Dog/cat.661.jpg', 'Cat_vs_Dog/cat.662.jpg', 'Cat_vs_Dog/cat.663.jpg', 'Cat_vs_Dog/cat.664.jpg', 'Cat_vs_Dog/cat.665.jpg', 'Cat_vs_Dog/cat.666.jpg', 'Cat_vs_Dog/cat.667.jpg', 'Cat_vs_Dog/cat.668.jpg', 'Cat_vs_Dog/cat.669.jpg', 'Cat_vs_Dog/cat.67.jpg', 'Cat_vs_Dog/cat.670.jpg', 'Cat_vs_Dog/cat.671.jpg', 'Cat_vs_Dog/cat.672.jpg', 'Cat_vs_Dog/cat.673.jpg', 'Cat_vs_Dog/cat.674.jpg', 'Cat_vs_Dog/cat.675.jpg', 'Cat_vs_Dog/cat.676.jpg', 'Cat_vs_Dog/cat.677.jpg', 'Cat_vs_Dog/cat.678.jpg', 'Cat_vs_Dog/cat.679.jpg', 'Cat_vs_Dog/cat.68.jpg', 'Cat_vs_Dog/cat.680.jpg', 'Cat_vs_Dog/cat.681.jpg', 'Cat_vs_Dog/cat.682.jpg', 'Cat_vs_Dog/cat.683.jpg', 'Cat_vs_Dog/cat.684.jpg', 'Cat_vs_Dog/cat.685.jpg', 'Cat_vs_Dog/cat.686.jpg', 'Cat_vs_Dog/cat.687.jpg', 'Cat_vs_Dog/cat.688.jpg', 'Cat_vs_Dog/cat.689.jpg', 'Cat_vs_Dog/cat.69.jpg', 'Cat_vs_Dog/cat.690.jpg', 'Cat_vs_Dog/cat.691.jpg', 'Cat_vs_Dog/cat.692.jpg', 'Cat_vs_Dog/cat.693.jpg', 'Cat_vs_Dog/cat.694.jpg', 'Cat_vs_Dog/cat.695.jpg', 'Cat_vs_Dog/cat.696.jpg', 'Cat_vs_Dog/cat.697.jpg', 'Cat_vs_Dog/cat.698.jpg', 'Cat_vs_Dog/cat.699.jpg', 'Cat_vs_Dog/cat.7.jpg', 'Cat_vs_Dog/cat.70.jpg', 'Cat_vs_Dog/cat.700.jpg', 'Cat_vs_Dog/cat.701.jpg', 'Cat_vs_Dog/cat.702.jpg', 'Cat_vs_Dog/cat.703.jpg', 'Cat_vs_Dog/cat.704.jpg', 'Cat_vs_Dog/cat.705.jpg', 'Cat_vs_Dog/cat.706.jpg', 'Cat_vs_Dog/cat.707.jpg', 'Cat_vs_Dog/cat.708.jpg', 'Cat_vs_Dog/cat.709.jpg', 'Cat_vs_Dog/cat.71.jpg', 'Cat_vs_Dog/cat.710.jpg', 'Cat_vs_Dog/cat.711.jpg', 'Cat_vs_Dog/cat.712.jpg', 'Cat_vs_Dog/cat.713.jpg', 'Cat_vs_Dog/cat.714.jpg', 'Cat_vs_Dog/cat.715.jpg', 'Cat_vs_Dog/cat.716.jpg', 'Cat_vs_Dog/cat.717.jpg', 'Cat_vs_Dog/cat.718.jpg', 'Cat_vs_Dog/cat.719.jpg', 'Cat_vs_Dog/cat.72.jpg', 'Cat_vs_Dog/cat.720.jpg', 'Cat_vs_Dog/cat.721.jpg', 'Cat_vs_Dog/cat.722.jpg', 'Cat_vs_Dog/cat.723.jpg', 'Cat_vs_Dog/cat.724.jpg', 'Cat_vs_Dog/cat.725.jpg', 'Cat_vs_Dog/cat.726.jpg', 'Cat_vs_Dog/cat.727.jpg', 'Cat_vs_Dog/cat.728.jpg', 'Cat_vs_Dog/cat.729.jpg', 'Cat_vs_Dog/cat.73.jpg', 'Cat_vs_Dog/cat.730.jpg', 'Cat_vs_Dog/cat.731.jpg', 'Cat_vs_Dog/cat.732.jpg', 'Cat_vs_Dog/cat.733.jpg', 'Cat_vs_Dog/cat.734.jpg', 'Cat_vs_Dog/cat.735.jpg', 'Cat_vs_Dog/cat.736.jpg', 'Cat_vs_Dog/cat.737.jpg', 'Cat_vs_Dog/cat.738.jpg', 'Cat_vs_Dog/cat.739.jpg', 'Cat_vs_Dog/cat.74.jpg', 'Cat_vs_Dog/cat.740.jpg', 'Cat_vs_Dog/cat.741.jpg', 'Cat_vs_Dog/cat.742.jpg', 'Cat_vs_Dog/cat.743.jpg', 'Cat_vs_Dog/cat.744.jpg', 'Cat_vs_Dog/cat.745.jpg', 'Cat_vs_Dog/cat.746.jpg', 'Cat_vs_Dog/cat.747.jpg', 'Cat_vs_Dog/cat.748.jpg', 'Cat_vs_Dog/cat.749.jpg', 'Cat_vs_Dog/cat.75.jpg', 'Cat_vs_Dog/cat.750.jpg', 'Cat_vs_Dog/cat.751.jpg', 'Cat_vs_Dog/cat.752.jpg', 'Cat_vs_Dog/cat.753.jpg', 'Cat_vs_Dog/cat.754.jpg', 'Cat_vs_Dog/cat.755.jpg', 'Cat_vs_Dog/cat.756.jpg', 'Cat_vs_Dog/cat.757.jpg', 'Cat_vs_Dog/cat.758.jpg', 'Cat_vs_Dog/cat.759.jpg', 'Cat_vs_Dog/cat.76.jpg', 'Cat_vs_Dog/cat.760.jpg', 'Cat_vs_Dog/cat.761.jpg', 'Cat_vs_Dog/cat.762.jpg', 'Cat_vs_Dog/cat.763.jpg', 'Cat_vs_Dog/cat.764.jpg', 'Cat_vs_Dog/cat.765.jpg', 'Cat_vs_Dog/cat.766.jpg', 'Cat_vs_Dog/cat.767.jpg', 'Cat_vs_Dog/cat.768.jpg', 'Cat_vs_Dog/cat.769.jpg', 'Cat_vs_Dog/cat.77.jpg', 'Cat_vs_Dog/cat.770.jpg', 'Cat_vs_Dog/cat.771.jpg', 'Cat_vs_Dog/cat.772.jpg', 'Cat_vs_Dog/cat.773.jpg', 'Cat_vs_Dog/cat.774.jpg', 'Cat_vs_Dog/cat.775.jpg', 'Cat_vs_Dog/cat.776.jpg', 'Cat_vs_Dog/cat.777.jpg', 'Cat_vs_Dog/cat.778.jpg', 'Cat_vs_Dog/cat.779.jpg', 'Cat_vs_Dog/cat.78.jpg', 'Cat_vs_Dog/cat.780.jpg', 'Cat_vs_Dog/cat.781.jpg', 'Cat_vs_Dog/cat.782.jpg', 'Cat_vs_Dog/cat.783.jpg', 'Cat_vs_Dog/cat.784.jpg', 'Cat_vs_Dog/cat.785.jpg', 'Cat_vs_Dog/cat.786.jpg', 'Cat_vs_Dog/cat.787.jpg', 'Cat_vs_Dog/cat.788.jpg', 'Cat_vs_Dog/cat.789.jpg', 'Cat_vs_Dog/cat.79.jpg', 'Cat_vs_Dog/cat.790.jpg', 'Cat_vs_Dog/cat.791.jpg', 'Cat_vs_Dog/cat.792.jpg', 'Cat_vs_Dog/cat.793.jpg', 'Cat_vs_Dog/cat.794.jpg', 'Cat_vs_Dog/cat.795.jpg', 'Cat_vs_Dog/cat.796.jpg', 'Cat_vs_Dog/cat.797.jpg', 'Cat_vs_Dog/cat.798.jpg', 'Cat_vs_Dog/cat.799.jpg', 'Cat_vs_Dog/cat.8.jpg', 'Cat_vs_Dog/cat.80.jpg', 'Cat_vs_Dog/cat.800.jpg', 'Cat_vs_Dog/cat.801.jpg', 'Cat_vs_Dog/cat.802.jpg', 'Cat_vs_Dog/cat.803.jpg', 'Cat_vs_Dog/cat.804.jpg', 'Cat_vs_Dog/cat.805.jpg', 'Cat_vs_Dog/cat.806.jpg', 'Cat_vs_Dog/cat.807.jpg', 'Cat_vs_Dog/cat.808.jpg', 'Cat_vs_Dog/cat.809.jpg', 'Cat_vs_Dog/cat.81.jpg', 'Cat_vs_Dog/cat.810.jpg', 'Cat_vs_Dog/cat.811.jpg', 'Cat_vs_Dog/cat.812.jpg', 'Cat_vs_Dog/cat.813.jpg', 'Cat_vs_Dog/cat.814.jpg', 'Cat_vs_Dog/cat.815.jpg', 'Cat_vs_Dog/cat.816.jpg', 'Cat_vs_Dog/cat.817.jpg', 'Cat_vs_Dog/cat.818.jpg', 'Cat_vs_Dog/cat.819.jpg', 'Cat_vs_Dog/cat.82.jpg', 'Cat_vs_Dog/cat.820.jpg', 'Cat_vs_Dog/cat.821.jpg', 'Cat_vs_Dog/cat.822.jpg', 'Cat_vs_Dog/cat.823.jpg', 'Cat_vs_Dog/cat.824.jpg', 'Cat_vs_Dog/cat.825.jpg', 'Cat_vs_Dog/cat.826.jpg', 'Cat_vs_Dog/cat.827.jpg', 'Cat_vs_Dog/cat.828.jpg', 'Cat_vs_Dog/cat.829.jpg', 'Cat_vs_Dog/cat.83.jpg', 'Cat_vs_Dog/cat.830.jpg', 'Cat_vs_Dog/cat.831.jpg', 'Cat_vs_Dog/cat.832.jpg', 'Cat_vs_Dog/cat.833.jpg', 'Cat_vs_Dog/cat.834.jpg', 'Cat_vs_Dog/cat.835.jpg', 'Cat_vs_Dog/cat.836.jpg', 'Cat_vs_Dog/cat.837.jpg', 'Cat_vs_Dog/cat.838.jpg', 'Cat_vs_Dog/cat.839.jpg', 'Cat_vs_Dog/cat.84.jpg', 'Cat_vs_Dog/cat.840.jpg', 'Cat_vs_Dog/cat.841.jpg', 'Cat_vs_Dog/cat.842.jpg', 'Cat_vs_Dog/cat.843.jpg', 'Cat_vs_Dog/cat.844.jpg', 'Cat_vs_Dog/cat.845.jpg', 'Cat_vs_Dog/cat.846.jpg', 'Cat_vs_Dog/cat.847.jpg', 'Cat_vs_Dog/cat.848.jpg', 'Cat_vs_Dog/cat.849.jpg', 'Cat_vs_Dog/cat.85.jpg', 'Cat_vs_Dog/cat.850.jpg', 'Cat_vs_Dog/cat.851.jpg', 'Cat_vs_Dog/cat.852.jpg', 'Cat_vs_Dog/cat.853.jpg', 'Cat_vs_Dog/cat.854.jpg', 'Cat_vs_Dog/cat.855.jpg', 'Cat_vs_Dog/cat.856.jpg', 'Cat_vs_Dog/cat.857.jpg', 'Cat_vs_Dog/cat.858.jpg', 'Cat_vs_Dog/cat.859.jpg', 'Cat_vs_Dog/cat.86.jpg', 'Cat_vs_Dog/cat.860.jpg', 'Cat_vs_Dog/cat.861.jpg', 'Cat_vs_Dog/cat.862.jpg', 'Cat_vs_Dog/cat.863.jpg', 'Cat_vs_Dog/cat.864.jpg', 'Cat_vs_Dog/cat.865.jpg', 'Cat_vs_Dog/cat.866.jpg', 'Cat_vs_Dog/cat.867.jpg', 'Cat_vs_Dog/cat.868.jpg', 'Cat_vs_Dog/cat.869.jpg', 'Cat_vs_Dog/cat.87.jpg', 'Cat_vs_Dog/cat.870.jpg', 'Cat_vs_Dog/cat.871.jpg', 'Cat_vs_Dog/cat.872.jpg', 'Cat_vs_Dog/cat.873.jpg', 'Cat_vs_Dog/cat.874.jpg', 'Cat_vs_Dog/cat.875.jpg', 'Cat_vs_Dog/cat.876.jpg', 'Cat_vs_Dog/cat.877.jpg', 'Cat_vs_Dog/cat.878.jpg', 'Cat_vs_Dog/cat.879.jpg', 'Cat_vs_Dog/cat.88.jpg', 'Cat_vs_Dog/cat.880.jpg', 'Cat_vs_Dog/cat.881.jpg', 'Cat_vs_Dog/cat.882.jpg', 'Cat_vs_Dog/cat.883.jpg', 'Cat_vs_Dog/cat.884.jpg', 'Cat_vs_Dog/cat.885.jpg', 'Cat_vs_Dog/cat.886.jpg', 'Cat_vs_Dog/cat.887.jpg', 'Cat_vs_Dog/cat.888.jpg', 'Cat_vs_Dog/cat.889.jpg', 'Cat_vs_Dog/cat.89.jpg', 'Cat_vs_Dog/cat.890.jpg', 'Cat_vs_Dog/cat.891.jpg', 'Cat_vs_Dog/cat.892.jpg', 'Cat_vs_Dog/cat.893.jpg', 'Cat_vs_Dog/cat.894.jpg', 'Cat_vs_Dog/cat.895.jpg', 'Cat_vs_Dog/cat.896.jpg', 'Cat_vs_Dog/cat.897.jpg', 'Cat_vs_Dog/cat.898.jpg', 'Cat_vs_Dog/cat.899.jpg', 'Cat_vs_Dog/cat.9.jpg', 'Cat_vs_Dog/cat.90.jpg', 'Cat_vs_Dog/cat.900.jpg', 'Cat_vs_Dog/cat.901.jpg', 'Cat_vs_Dog/cat.902.jpg', 'Cat_vs_Dog/cat.903.jpg', 'Cat_vs_Dog/cat.904.jpg', 'Cat_vs_Dog/cat.905.jpg', 'Cat_vs_Dog/cat.906.jpg', 'Cat_vs_Dog/cat.907.jpg', 'Cat_vs_Dog/cat.908.jpg', 'Cat_vs_Dog/cat.909.jpg', 'Cat_vs_Dog/cat.91.jpg', 'Cat_vs_Dog/cat.910.jpg', 'Cat_vs_Dog/cat.911.jpg', 'Cat_vs_Dog/cat.912.jpg', 'Cat_vs_Dog/cat.913.jpg', 'Cat_vs_Dog/cat.914.jpg', 'Cat_vs_Dog/cat.915.jpg', 'Cat_vs_Dog/cat.916.jpg', 'Cat_vs_Dog/cat.917.jpg', 'Cat_vs_Dog/cat.918.jpg', 'Cat_vs_Dog/cat.919.jpg', 'Cat_vs_Dog/cat.92.jpg', 'Cat_vs_Dog/cat.920.jpg', 'Cat_vs_Dog/cat.921.jpg', 'Cat_vs_Dog/cat.922.jpg', 'Cat_vs_Dog/cat.923.jpg', 'Cat_vs_Dog/cat.924.jpg', 'Cat_vs_Dog/cat.925.jpg', 'Cat_vs_Dog/cat.926.jpg', 'Cat_vs_Dog/cat.927.jpg', 'Cat_vs_Dog/cat.928.jpg', 'Cat_vs_Dog/cat.929.jpg', 'Cat_vs_Dog/cat.93.jpg', 'Cat_vs_Dog/cat.930.jpg', 'Cat_vs_Dog/cat.931.jpg', 'Cat_vs_Dog/cat.932.jpg', 'Cat_vs_Dog/cat.933.jpg', 'Cat_vs_Dog/cat.934.jpg', 'Cat_vs_Dog/cat.935.jpg', 'Cat_vs_Dog/cat.936.jpg', 'Cat_vs_Dog/cat.937.jpg', 'Cat_vs_Dog/cat.938.jpg', 'Cat_vs_Dog/cat.939.jpg', 'Cat_vs_Dog/cat.94.jpg', 'Cat_vs_Dog/cat.940.jpg', 'Cat_vs_Dog/cat.941.jpg', 'Cat_vs_Dog/cat.942.jpg', 'Cat_vs_Dog/cat.943.jpg', 'Cat_vs_Dog/cat.944.jpg', 'Cat_vs_Dog/cat.945.jpg', 'Cat_vs_Dog/cat.946.jpg', 'Cat_vs_Dog/cat.947.jpg', 'Cat_vs_Dog/cat.948.jpg', 'Cat_vs_Dog/cat.949.jpg', 'Cat_vs_Dog/cat.95.jpg', 'Cat_vs_Dog/cat.950.jpg', 'Cat_vs_Dog/cat.951.jpg', 'Cat_vs_Dog/cat.952.jpg', 'Cat_vs_Dog/cat.953.jpg', 'Cat_vs_Dog/cat.954.jpg', 'Cat_vs_Dog/cat.955.jpg', 'Cat_vs_Dog/cat.956.jpg', 'Cat_vs_Dog/cat.957.jpg', 'Cat_vs_Dog/cat.958.jpg', 'Cat_vs_Dog/cat.959.jpg', 'Cat_vs_Dog/cat.96.jpg', 'Cat_vs_Dog/cat.960.jpg', 'Cat_vs_Dog/cat.961.jpg', 'Cat_vs_Dog/cat.962.jpg', 'Cat_vs_Dog/cat.963.jpg', 'Cat_vs_Dog/cat.964.jpg', 'Cat_vs_Dog/cat.965.jpg', 'Cat_vs_Dog/cat.966.jpg', 'Cat_vs_Dog/cat.967.jpg', 'Cat_vs_Dog/cat.968.jpg', 'Cat_vs_Dog/cat.969.jpg', 'Cat_vs_Dog/cat.97.jpg', 'Cat_vs_Dog/cat.970.jpg', 'Cat_vs_Dog/cat.971.jpg', 'Cat_vs_Dog/cat.972.jpg', 'Cat_vs_Dog/cat.973.jpg', 'Cat_vs_Dog/cat.974.jpg', 'Cat_vs_Dog/cat.975.jpg', 'Cat_vs_Dog/cat.976.jpg', 'Cat_vs_Dog/cat.977.jpg', 'Cat_vs_Dog/cat.978.jpg', 'Cat_vs_Dog/cat.979.jpg', 'Cat_vs_Dog/cat.98.jpg', 'Cat_vs_Dog/cat.980.jpg', 'Cat_vs_Dog/cat.981.jpg', 'Cat_vs_Dog/cat.982.jpg', 'Cat_vs_Dog/cat.983.jpg', 'Cat_vs_Dog/cat.984.jpg', 'Cat_vs_Dog/cat.985.jpg', 'Cat_vs_Dog/cat.986.jpg', 'Cat_vs_Dog/cat.987.jpg', 'Cat_vs_Dog/cat.988.jpg', 'Cat_vs_Dog/cat.989.jpg', 'Cat_vs_Dog/cat.99.jpg', 'Cat_vs_Dog/cat.990.jpg', 'Cat_vs_Dog/cat.991.jpg', 'Cat_vs_Dog/cat.992.jpg', 'Cat_vs_Dog/cat.993.jpg', 'Cat_vs_Dog/cat.994.jpg', 'Cat_vs_Dog/cat.995.jpg', 'Cat_vs_Dog/cat.996.jpg', 'Cat_vs_Dog/cat.997.jpg', 'Cat_vs_Dog/cat.998.jpg', 'Cat_vs_Dog/cat.999.jpg', 'Cat_vs_Dog/dog.0.jpg', 'Cat_vs_Dog/dog.1.jpg', 'Cat_vs_Dog/dog.10.jpg', 'Cat_vs_Dog/dog.100.jpg', 'Cat_vs_Dog/dog.101.jpg', 'Cat_vs_Dog/dog.102.jpg', 'Cat_vs_Dog/dog.103.jpg', 'Cat_vs_Dog/dog.104.jpg', 'Cat_vs_Dog/dog.105.jpg', 'Cat_vs_Dog/dog.106.jpg', 'Cat_vs_Dog/dog.107.jpg', 'Cat_vs_Dog/dog.108.jpg', 'Cat_vs_Dog/dog.109.jpg', 'Cat_vs_Dog/dog.11.jpg', 'Cat_vs_Dog/dog.110.jpg', 'Cat_vs_Dog/dog.111.jpg', 'Cat_vs_Dog/dog.112.jpg', 'Cat_vs_Dog/dog.113.jpg', 'Cat_vs_Dog/dog.114.jpg', 'Cat_vs_Dog/dog.115.jpg', 'Cat_vs_Dog/dog.116.jpg', 'Cat_vs_Dog/dog.117.jpg', 'Cat_vs_Dog/dog.118.jpg', 'Cat_vs_Dog/dog.119.jpg', 'Cat_vs_Dog/dog.12.jpg', 'Cat_vs_Dog/dog.120.jpg', 'Cat_vs_Dog/dog.121.jpg', 'Cat_vs_Dog/dog.122.jpg', 'Cat_vs_Dog/dog.123.jpg', 'Cat_vs_Dog/dog.124.jpg', 'Cat_vs_Dog/dog.125.jpg', 'Cat_vs_Dog/dog.126.jpg', 'Cat_vs_Dog/dog.127.jpg', 'Cat_vs_Dog/dog.128.jpg', 'Cat_vs_Dog/dog.129.jpg', 'Cat_vs_Dog/dog.13.jpg', 'Cat_vs_Dog/dog.130.jpg', 'Cat_vs_Dog/dog.131.jpg', 'Cat_vs_Dog/dog.132.jpg', 'Cat_vs_Dog/dog.133.jpg', 'Cat_vs_Dog/dog.134.jpg', 'Cat_vs_Dog/dog.135.jpg', 'Cat_vs_Dog/dog.136.jpg', 'Cat_vs_Dog/dog.137.jpg', 'Cat_vs_Dog/dog.138.jpg', 'Cat_vs_Dog/dog.139.jpg', 'Cat_vs_Dog/dog.14.jpg', 'Cat_vs_Dog/dog.140.jpg', 'Cat_vs_Dog/dog.141.jpg', 'Cat_vs_Dog/dog.142.jpg', 'Cat_vs_Dog/dog.143.jpg', 'Cat_vs_Dog/dog.144.jpg', 'Cat_vs_Dog/dog.145.jpg', 'Cat_vs_Dog/dog.146.jpg', 'Cat_vs_Dog/dog.147.jpg', 'Cat_vs_Dog/dog.148.jpg', 'Cat_vs_Dog/dog.149.jpg', 'Cat_vs_Dog/dog.15.jpg', 'Cat_vs_Dog/dog.150.jpg', 'Cat_vs_Dog/dog.151.jpg', 'Cat_vs_Dog/dog.152.jpg', 'Cat_vs_Dog/dog.153.jpg', 'Cat_vs_Dog/dog.154.jpg', 'Cat_vs_Dog/dog.155.jpg', 'Cat_vs_Dog/dog.156.jpg', 'Cat_vs_Dog/dog.157.jpg', 'Cat_vs_Dog/dog.158.jpg', 'Cat_vs_Dog/dog.159.jpg', 'Cat_vs_Dog/dog.16.jpg', 'Cat_vs_Dog/dog.160.jpg', 'Cat_vs_Dog/dog.161.jpg', 'Cat_vs_Dog/dog.162.jpg', 'Cat_vs_Dog/dog.163.jpg', 'Cat_vs_Dog/dog.164.jpg', 'Cat_vs_Dog/dog.165.jpg', 'Cat_vs_Dog/dog.166.jpg', 'Cat_vs_Dog/dog.167.jpg', 'Cat_vs_Dog/dog.168.jpg', 'Cat_vs_Dog/dog.169.jpg', 'Cat_vs_Dog/dog.17.jpg', 'Cat_vs_Dog/dog.170.jpg', 'Cat_vs_Dog/dog.171.jpg', 'Cat_vs_Dog/dog.172.jpg', 'Cat_vs_Dog/dog.173.jpg', 'Cat_vs_Dog/dog.174.jpg', 'Cat_vs_Dog/dog.175.jpg', 'Cat_vs_Dog/dog.176.jpg', 'Cat_vs_Dog/dog.177.jpg', 'Cat_vs_Dog/dog.178.jpg', 'Cat_vs_Dog/dog.179.jpg', 'Cat_vs_Dog/dog.18.jpg', 'Cat_vs_Dog/dog.180.jpg', 'Cat_vs_Dog/dog.181.jpg', 'Cat_vs_Dog/dog.182.jpg', 'Cat_vs_Dog/dog.183.jpg', 'Cat_vs_Dog/dog.184.jpg', 'Cat_vs_Dog/dog.185.jpg', 'Cat_vs_Dog/dog.186.jpg', 'Cat_vs_Dog/dog.187.jpg', 'Cat_vs_Dog/dog.188.jpg', 'Cat_vs_Dog/dog.189.jpg', 'Cat_vs_Dog/dog.19.jpg', 'Cat_vs_Dog/dog.190.jpg', 'Cat_vs_Dog/dog.191.jpg', 'Cat_vs_Dog/dog.192.jpg', 'Cat_vs_Dog/dog.193.jpg', 'Cat_vs_Dog/dog.194.jpg', 'Cat_vs_Dog/dog.195.jpg', 'Cat_vs_Dog/dog.196.jpg', 'Cat_vs_Dog/dog.197.jpg', 'Cat_vs_Dog/dog.198.jpg', 'Cat_vs_Dog/dog.199.jpg', 'Cat_vs_Dog/dog.2.jpg', 'Cat_vs_Dog/dog.20.jpg', 'Cat_vs_Dog/dog.200.jpg', 'Cat_vs_Dog/dog.201.jpg', 'Cat_vs_Dog/dog.202.jpg', 'Cat_vs_Dog/dog.203.jpg', 'Cat_vs_Dog/dog.204.jpg', 'Cat_vs_Dog/dog.205.jpg', 'Cat_vs_Dog/dog.206.jpg', 'Cat_vs_Dog/dog.207.jpg', 'Cat_vs_Dog/dog.208.jpg', 'Cat_vs_Dog/dog.209.jpg', 'Cat_vs_Dog/dog.21.jpg', 'Cat_vs_Dog/dog.210.jpg', 'Cat_vs_Dog/dog.211.jpg', 'Cat_vs_Dog/dog.212.jpg', 'Cat_vs_Dog/dog.213.jpg', 'Cat_vs_Dog/dog.214.jpg', 'Cat_vs_Dog/dog.215.jpg', 'Cat_vs_Dog/dog.216.jpg', 'Cat_vs_Dog/dog.217.jpg', 'Cat_vs_Dog/dog.218.jpg', 'Cat_vs_Dog/dog.219.jpg', 'Cat_vs_Dog/dog.22.jpg', 'Cat_vs_Dog/dog.220.jpg', 'Cat_vs_Dog/dog.221.jpg', 'Cat_vs_Dog/dog.222.jpg', 'Cat_vs_Dog/dog.223.jpg', 'Cat_vs_Dog/dog.224.jpg', 'Cat_vs_Dog/dog.225.jpg', 'Cat_vs_Dog/dog.226.jpg', 'Cat_vs_Dog/dog.227.jpg', 'Cat_vs_Dog/dog.228.jpg', 'Cat_vs_Dog/dog.229.jpg', 'Cat_vs_Dog/dog.23.jpg', 'Cat_vs_Dog/dog.230.jpg', 'Cat_vs_Dog/dog.231.jpg', 'Cat_vs_Dog/dog.232.jpg', 'Cat_vs_Dog/dog.233.jpg', 'Cat_vs_Dog/dog.234.jpg', 'Cat_vs_Dog/dog.235.jpg', 'Cat_vs_Dog/dog.236.jpg', 'Cat_vs_Dog/dog.237.jpg', 'Cat_vs_Dog/dog.238.jpg', 'Cat_vs_Dog/dog.239.jpg', 'Cat_vs_Dog/dog.24.jpg', 'Cat_vs_Dog/dog.240.jpg', 'Cat_vs_Dog/dog.241.jpg', 'Cat_vs_Dog/dog.242.jpg', 'Cat_vs_Dog/dog.243.jpg', 'Cat_vs_Dog/dog.244.jpg', 'Cat_vs_Dog/dog.245.jpg', 'Cat_vs_Dog/dog.246.jpg', 'Cat_vs_Dog/dog.247.jpg', 'Cat_vs_Dog/dog.248.jpg', 'Cat_vs_Dog/dog.249.jpg', 'Cat_vs_Dog/dog.25.jpg', 'Cat_vs_Dog/dog.250.jpg', 'Cat_vs_Dog/dog.251.jpg', 'Cat_vs_Dog/dog.252.jpg', 'Cat_vs_Dog/dog.253.jpg', 'Cat_vs_Dog/dog.254.jpg', 'Cat_vs_Dog/dog.255.jpg', 'Cat_vs_Dog/dog.256.jpg', 'Cat_vs_Dog/dog.257.jpg', 'Cat_vs_Dog/dog.258.jpg', 'Cat_vs_Dog/dog.259.jpg', 'Cat_vs_Dog/dog.26.jpg', 'Cat_vs_Dog/dog.260.jpg', 'Cat_vs_Dog/dog.261.jpg', 'Cat_vs_Dog/dog.262.jpg', 'Cat_vs_Dog/dog.263.jpg', 'Cat_vs_Dog/dog.264.jpg', 'Cat_vs_Dog/dog.265.jpg', 'Cat_vs_Dog/dog.266.jpg', 'Cat_vs_Dog/dog.267.jpg', 'Cat_vs_Dog/dog.268.jpg', 'Cat_vs_Dog/dog.269.jpg', 'Cat_vs_Dog/dog.27.jpg', 'Cat_vs_Dog/dog.270.jpg', 'Cat_vs_Dog/dog.271.jpg', 'Cat_vs_Dog/dog.272.jpg', 'Cat_vs_Dog/dog.273.jpg', 'Cat_vs_Dog/dog.274.jpg', 'Cat_vs_Dog/dog.275.jpg', 'Cat_vs_Dog/dog.276.jpg', 'Cat_vs_Dog/dog.277.jpg', 'Cat_vs_Dog/dog.278.jpg', 'Cat_vs_Dog/dog.279.jpg', 'Cat_vs_Dog/dog.28.jpg', 'Cat_vs_Dog/dog.280.jpg', 'Cat_vs_Dog/dog.281.jpg', 'Cat_vs_Dog/dog.282.jpg', 'Cat_vs_Dog/dog.283.jpg', 'Cat_vs_Dog/dog.284.jpg', 'Cat_vs_Dog/dog.285.jpg', 'Cat_vs_Dog/dog.286.jpg', 'Cat_vs_Dog/dog.287.jpg', 'Cat_vs_Dog/dog.288.jpg', 'Cat_vs_Dog/dog.289.jpg', 'Cat_vs_Dog/dog.29.jpg', 'Cat_vs_Dog/dog.290.jpg', 'Cat_vs_Dog/dog.291.jpg', 'Cat_vs_Dog/dog.292.jpg', 'Cat_vs_Dog/dog.293.jpg', 'Cat_vs_Dog/dog.294.jpg', 'Cat_vs_Dog/dog.295.jpg', 'Cat_vs_Dog/dog.296.jpg', 'Cat_vs_Dog/dog.297.jpg', 'Cat_vs_Dog/dog.298.jpg', 'Cat_vs_Dog/dog.299.jpg', 'Cat_vs_Dog/dog.3.jpg', 'Cat_vs_Dog/dog.30.jpg', 'Cat_vs_Dog/dog.300.jpg', 'Cat_vs_Dog/dog.301.jpg', 'Cat_vs_Dog/dog.302.jpg', 'Cat_vs_Dog/dog.303.jpg', 'Cat_vs_Dog/dog.304.jpg', 'Cat_vs_Dog/dog.305.jpg', 'Cat_vs_Dog/dog.306.jpg', 'Cat_vs_Dog/dog.307.jpg', 'Cat_vs_Dog/dog.308.jpg', 'Cat_vs_Dog/dog.309.jpg', 'Cat_vs_Dog/dog.31.jpg', 'Cat_vs_Dog/dog.310.jpg', 'Cat_vs_Dog/dog.311.jpg', 'Cat_vs_Dog/dog.312.jpg', 'Cat_vs_Dog/dog.313.jpg', 'Cat_vs_Dog/dog.314.jpg', 'Cat_vs_Dog/dog.315.jpg', 'Cat_vs_Dog/dog.316.jpg', 'Cat_vs_Dog/dog.317.jpg', 'Cat_vs_Dog/dog.318.jpg', 'Cat_vs_Dog/dog.319.jpg', 'Cat_vs_Dog/dog.32.jpg', 'Cat_vs_Dog/dog.320.jpg', 'Cat_vs_Dog/dog.321.jpg', 'Cat_vs_Dog/dog.322.jpg', 'Cat_vs_Dog/dog.323.jpg', 'Cat_vs_Dog/dog.324.jpg', 'Cat_vs_Dog/dog.325.jpg', 'Cat_vs_Dog/dog.326.jpg', 'Cat_vs_Dog/dog.327.jpg', 'Cat_vs_Dog/dog.328.jpg', 'Cat_vs_Dog/dog.329.jpg', 'Cat_vs_Dog/dog.33.jpg', 'Cat_vs_Dog/dog.330.jpg', 'Cat_vs_Dog/dog.331.jpg', 'Cat_vs_Dog/dog.332.jpg', 'Cat_vs_Dog/dog.333.jpg', 'Cat_vs_Dog/dog.334.jpg', 'Cat_vs_Dog/dog.335.jpg', 'Cat_vs_Dog/dog.336.jpg', 'Cat_vs_Dog/dog.337.jpg', 'Cat_vs_Dog/dog.338.jpg', 'Cat_vs_Dog/dog.339.jpg', 'Cat_vs_Dog/dog.34.jpg', 'Cat_vs_Dog/dog.340.jpg', 'Cat_vs_Dog/dog.341.jpg', 'Cat_vs_Dog/dog.342.jpg', 'Cat_vs_Dog/dog.343.jpg', 'Cat_vs_Dog/dog.344.jpg', 'Cat_vs_Dog/dog.345.jpg', 'Cat_vs_Dog/dog.346.jpg', 'Cat_vs_Dog/dog.347.jpg', 'Cat_vs_Dog/dog.348.jpg', 'Cat_vs_Dog/dog.349.jpg', 'Cat_vs_Dog/dog.35.jpg', 'Cat_vs_Dog/dog.350.jpg', 'Cat_vs_Dog/dog.351.jpg', 'Cat_vs_Dog/dog.352.jpg', 'Cat_vs_Dog/dog.353.jpg', 'Cat_vs_Dog/dog.354.jpg', 'Cat_vs_Dog/dog.355.jpg', 'Cat_vs_Dog/dog.356.jpg', 'Cat_vs_Dog/dog.357.jpg', 'Cat_vs_Dog/dog.358.jpg', 'Cat_vs_Dog/dog.359.jpg', 'Cat_vs_Dog/dog.36.jpg', 'Cat_vs_Dog/dog.360.jpg', 'Cat_vs_Dog/dog.361.jpg', 'Cat_vs_Dog/dog.362.jpg', 'Cat_vs_Dog/dog.363.jpg', 'Cat_vs_Dog/dog.364.jpg', 'Cat_vs_Dog/dog.365.jpg', 'Cat_vs_Dog/dog.366.jpg', 'Cat_vs_Dog/dog.367.jpg', 'Cat_vs_Dog/dog.368.jpg', 'Cat_vs_Dog/dog.369.jpg', 'Cat_vs_Dog/dog.37.jpg', 'Cat_vs_Dog/dog.370.jpg', 'Cat_vs_Dog/dog.371.jpg', 'Cat_vs_Dog/dog.372.jpg', 'Cat_vs_Dog/dog.373.jpg', 'Cat_vs_Dog/dog.374.jpg', 'Cat_vs_Dog/dog.375.jpg', 'Cat_vs_Dog/dog.376.jpg', 'Cat_vs_Dog/dog.377.jpg', 'Cat_vs_Dog/dog.378.jpg', 'Cat_vs_Dog/dog.379.jpg', 'Cat_vs_Dog/dog.38.jpg', 'Cat_vs_Dog/dog.380.jpg', 'Cat_vs_Dog/dog.381.jpg', 'Cat_vs_Dog/dog.382.jpg', 'Cat_vs_Dog/dog.383.jpg', 'Cat_vs_Dog/dog.384.jpg', 'Cat_vs_Dog/dog.385.jpg', 'Cat_vs_Dog/dog.386.jpg', 'Cat_vs_Dog/dog.387.jpg', 'Cat_vs_Dog/dog.388.jpg', 'Cat_vs_Dog/dog.389.jpg', 'Cat_vs_Dog/dog.39.jpg', 'Cat_vs_Dog/dog.390.jpg', 'Cat_vs_Dog/dog.391.jpg', 'Cat_vs_Dog/dog.392.jpg', 'Cat_vs_Dog/dog.393.jpg', 'Cat_vs_Dog/dog.394.jpg', 'Cat_vs_Dog/dog.395.jpg', 'Cat_vs_Dog/dog.396.jpg', 'Cat_vs_Dog/dog.397.jpg', 'Cat_vs_Dog/dog.398.jpg', 'Cat_vs_Dog/dog.399.jpg', 'Cat_vs_Dog/dog.4.jpg', 'Cat_vs_Dog/dog.40.jpg', 'Cat_vs_Dog/dog.400.jpg', 'Cat_vs_Dog/dog.401.jpg', 'Cat_vs_Dog/dog.402.jpg', 'Cat_vs_Dog/dog.403.jpg', 'Cat_vs_Dog/dog.404.jpg', 'Cat_vs_Dog/dog.405.jpg', 'Cat_vs_Dog/dog.406.jpg', 'Cat_vs_Dog/dog.407.jpg', 'Cat_vs_Dog/dog.408.jpg', 'Cat_vs_Dog/dog.409.jpg', 'Cat_vs_Dog/dog.41.jpg', 'Cat_vs_Dog/dog.410.jpg', 'Cat_vs_Dog/dog.411.jpg', 'Cat_vs_Dog/dog.412.jpg', 'Cat_vs_Dog/dog.413.jpg', 'Cat_vs_Dog/dog.414.jpg', 'Cat_vs_Dog/dog.415.jpg', 'Cat_vs_Dog/dog.416.jpg', 'Cat_vs_Dog/dog.417.jpg', 'Cat_vs_Dog/dog.418.jpg', 'Cat_vs_Dog/dog.419.jpg', 'Cat_vs_Dog/dog.42.jpg', 'Cat_vs_Dog/dog.420.jpg', 'Cat_vs_Dog/dog.421.jpg', 'Cat_vs_Dog/dog.422.jpg', 'Cat_vs_Dog/dog.423.jpg', 'Cat_vs_Dog/dog.424.jpg', 'Cat_vs_Dog/dog.425.jpg', 'Cat_vs_Dog/dog.426.jpg', 'Cat_vs_Dog/dog.427.jpg', 'Cat_vs_Dog/dog.428.jpg', 'Cat_vs_Dog/dog.429.jpg', 'Cat_vs_Dog/dog.43.jpg', 'Cat_vs_Dog/dog.430.jpg', 'Cat_vs_Dog/dog.431.jpg', 'Cat_vs_Dog/dog.432.jpg', 'Cat_vs_Dog/dog.433.jpg', 'Cat_vs_Dog/dog.434.jpg', 'Cat_vs_Dog/dog.435.jpg', 'Cat_vs_Dog/dog.436.jpg', 'Cat_vs_Dog/dog.437.jpg', 'Cat_vs_Dog/dog.438.jpg', 'Cat_vs_Dog/dog.439.jpg', 'Cat_vs_Dog/dog.44.jpg', 'Cat_vs_Dog/dog.440.jpg', 'Cat_vs_Dog/dog.441.jpg', 'Cat_vs_Dog/dog.442.jpg', 'Cat_vs_Dog/dog.443.jpg', 'Cat_vs_Dog/dog.444.jpg', 'Cat_vs_Dog/dog.445.jpg', 'Cat_vs_Dog/dog.446.jpg', 'Cat_vs_Dog/dog.447.jpg', 'Cat_vs_Dog/dog.448.jpg', 'Cat_vs_Dog/dog.449.jpg', 'Cat_vs_Dog/dog.45.jpg', 'Cat_vs_Dog/dog.450.jpg', 'Cat_vs_Dog/dog.451.jpg', 'Cat_vs_Dog/dog.452.jpg', 'Cat_vs_Dog/dog.453.jpg', 'Cat_vs_Dog/dog.454.jpg', 'Cat_vs_Dog/dog.455.jpg', 'Cat_vs_Dog/dog.456.jpg', 'Cat_vs_Dog/dog.457.jpg', 'Cat_vs_Dog/dog.458.jpg', 'Cat_vs_Dog/dog.459.jpg', 'Cat_vs_Dog/dog.46.jpg', 'Cat_vs_Dog/dog.460.jpg', 'Cat_vs_Dog/dog.461.jpg', 'Cat_vs_Dog/dog.462.jpg', 'Cat_vs_Dog/dog.463.jpg', 'Cat_vs_Dog/dog.464.jpg', 'Cat_vs_Dog/dog.465.jpg', 'Cat_vs_Dog/dog.466.jpg', 'Cat_vs_Dog/dog.467.jpg', 'Cat_vs_Dog/dog.468.jpg', 'Cat_vs_Dog/dog.469.jpg', 'Cat_vs_Dog/dog.47.jpg', 'Cat_vs_Dog/dog.470.jpg', 'Cat_vs_Dog/dog.471.jpg', 'Cat_vs_Dog/dog.472.jpg', 'Cat_vs_Dog/dog.473.jpg', 'Cat_vs_Dog/dog.474.jpg', 'Cat_vs_Dog/dog.475.jpg', 'Cat_vs_Dog/dog.476.jpg', 'Cat_vs_Dog/dog.477.jpg', 'Cat_vs_Dog/dog.478.jpg', 'Cat_vs_Dog/dog.479.jpg', 'Cat_vs_Dog/dog.48.jpg', 'Cat_vs_Dog/dog.480.jpg', 'Cat_vs_Dog/dog.481.jpg', 'Cat_vs_Dog/dog.482.jpg', 'Cat_vs_Dog/dog.483.jpg', 'Cat_vs_Dog/dog.484.jpg', 'Cat_vs_Dog/dog.485.jpg', 'Cat_vs_Dog/dog.486.jpg', 'Cat_vs_Dog/dog.487.jpg', 'Cat_vs_Dog/dog.488.jpg', 'Cat_vs_Dog/dog.489.jpg', 'Cat_vs_Dog/dog.49.jpg', 'Cat_vs_Dog/dog.490.jpg', 'Cat_vs_Dog/dog.491.jpg', 'Cat_vs_Dog/dog.492.jpg', 'Cat_vs_Dog/dog.493.jpg', 'Cat_vs_Dog/dog.494.jpg', 'Cat_vs_Dog/dog.495.jpg', 'Cat_vs_Dog/dog.496.jpg', 'Cat_vs_Dog/dog.497.jpg', 'Cat_vs_Dog/dog.498.jpg', 'Cat_vs_Dog/dog.499.jpg', 'Cat_vs_Dog/dog.5.jpg', 'Cat_vs_Dog/dog.50.jpg', 'Cat_vs_Dog/dog.500.jpg', 'Cat_vs_Dog/dog.501.jpg', 'Cat_vs_Dog/dog.502.jpg', 'Cat_vs_Dog/dog.503.jpg', 'Cat_vs_Dog/dog.504.jpg', 'Cat_vs_Dog/dog.505.jpg', 'Cat_vs_Dog/dog.506.jpg', 'Cat_vs_Dog/dog.507.jpg', 'Cat_vs_Dog/dog.508.jpg', 'Cat_vs_Dog/dog.509.jpg', 'Cat_vs_Dog/dog.51.jpg', 'Cat_vs_Dog/dog.510.jpg', 'Cat_vs_Dog/dog.511.jpg', 'Cat_vs_Dog/dog.512.jpg', 'Cat_vs_Dog/dog.513.jpg', 'Cat_vs_Dog/dog.514.jpg', 'Cat_vs_Dog/dog.515.jpg', 'Cat_vs_Dog/dog.516.jpg', 'Cat_vs_Dog/dog.517.jpg', 'Cat_vs_Dog/dog.518.jpg', 'Cat_vs_Dog/dog.519.jpg', 'Cat_vs_Dog/dog.52.jpg', 'Cat_vs_Dog/dog.520.jpg', 'Cat_vs_Dog/dog.521.jpg', 'Cat_vs_Dog/dog.522.jpg', 'Cat_vs_Dog/dog.523.jpg', 'Cat_vs_Dog/dog.524.jpg', 'Cat_vs_Dog/dog.525.jpg', 'Cat_vs_Dog/dog.526.jpg', 'Cat_vs_Dog/dog.527.jpg', 'Cat_vs_Dog/dog.528.jpg', 'Cat_vs_Dog/dog.529.jpg', 'Cat_vs_Dog/dog.53.jpg', 'Cat_vs_Dog/dog.530.jpg', 'Cat_vs_Dog/dog.531.jpg', 'Cat_vs_Dog/dog.532.jpg', 'Cat_vs_Dog/dog.533.jpg', 'Cat_vs_Dog/dog.534.jpg', 'Cat_vs_Dog/dog.535.jpg', 'Cat_vs_Dog/dog.536.jpg', 'Cat_vs_Dog/dog.537.jpg', 'Cat_vs_Dog/dog.538.jpg', 'Cat_vs_Dog/dog.539.jpg', 'Cat_vs_Dog/dog.54.jpg', 'Cat_vs_Dog/dog.540.jpg', 'Cat_vs_Dog/dog.541.jpg', 'Cat_vs_Dog/dog.542.jpg', 'Cat_vs_Dog/dog.543.jpg', 'Cat_vs_Dog/dog.544.jpg', 'Cat_vs_Dog/dog.545.jpg', 'Cat_vs_Dog/dog.546.jpg', 'Cat_vs_Dog/dog.547.jpg', 'Cat_vs_Dog/dog.548.jpg', 'Cat_vs_Dog/dog.549.jpg', 'Cat_vs_Dog/dog.55.jpg', 'Cat_vs_Dog/dog.550.jpg', 'Cat_vs_Dog/dog.551.jpg', 'Cat_vs_Dog/dog.552.jpg', 'Cat_vs_Dog/dog.553.jpg', 'Cat_vs_Dog/dog.554.jpg', 'Cat_vs_Dog/dog.555.jpg', 'Cat_vs_Dog/dog.556.jpg', 'Cat_vs_Dog/dog.557.jpg', 'Cat_vs_Dog/dog.558.jpg', 'Cat_vs_Dog/dog.559.jpg', 'Cat_vs_Dog/dog.56.jpg', 'Cat_vs_Dog/dog.560.jpg', 'Cat_vs_Dog/dog.561.jpg', 'Cat_vs_Dog/dog.562.jpg', 'Cat_vs_Dog/dog.563.jpg', 'Cat_vs_Dog/dog.564.jpg', 'Cat_vs_Dog/dog.565.jpg', 'Cat_vs_Dog/dog.566.jpg', 'Cat_vs_Dog/dog.567.jpg', 'Cat_vs_Dog/dog.568.jpg', 'Cat_vs_Dog/dog.569.jpg', 'Cat_vs_Dog/dog.57.jpg', 'Cat_vs_Dog/dog.570.jpg', 'Cat_vs_Dog/dog.571.jpg', 'Cat_vs_Dog/dog.572.jpg', 'Cat_vs_Dog/dog.573.jpg', 'Cat_vs_Dog/dog.574.jpg', 'Cat_vs_Dog/dog.575.jpg', 'Cat_vs_Dog/dog.576.jpg', 'Cat_vs_Dog/dog.577.jpg', 'Cat_vs_Dog/dog.578.jpg', 'Cat_vs_Dog/dog.579.jpg', 'Cat_vs_Dog/dog.58.jpg', 'Cat_vs_Dog/dog.580.jpg', 'Cat_vs_Dog/dog.581.jpg', 'Cat_vs_Dog/dog.582.jpg', 'Cat_vs_Dog/dog.583.jpg', 'Cat_vs_Dog/dog.584.jpg', 'Cat_vs_Dog/dog.585.jpg', 'Cat_vs_Dog/dog.586.jpg', 'Cat_vs_Dog/dog.587.jpg', 'Cat_vs_Dog/dog.588.jpg', 'Cat_vs_Dog/dog.589.jpg', 'Cat_vs_Dog/dog.59.jpg', 'Cat_vs_Dog/dog.590.jpg', 'Cat_vs_Dog/dog.591.jpg', 'Cat_vs_Dog/dog.592.jpg', 'Cat_vs_Dog/dog.593.jpg', 'Cat_vs_Dog/dog.594.jpg', 'Cat_vs_Dog/dog.595.jpg', 'Cat_vs_Dog/dog.596.jpg', 'Cat_vs_Dog/dog.597.jpg', 'Cat_vs_Dog/dog.598.jpg', 'Cat_vs_Dog/dog.599.jpg', 'Cat_vs_Dog/dog.6.jpg', 'Cat_vs_Dog/dog.60.jpg', 'Cat_vs_Dog/dog.600.jpg', 'Cat_vs_Dog/dog.601.jpg', 'Cat_vs_Dog/dog.602.jpg', 'Cat_vs_Dog/dog.603.jpg', 'Cat_vs_Dog/dog.604.jpg', 'Cat_vs_Dog/dog.605.jpg', 'Cat_vs_Dog/dog.606.jpg', 'Cat_vs_Dog/dog.607.jpg', 'Cat_vs_Dog/dog.608.jpg', 'Cat_vs_Dog/dog.609.jpg', 'Cat_vs_Dog/dog.61.jpg', 'Cat_vs_Dog/dog.610.jpg', 'Cat_vs_Dog/dog.611.jpg', 'Cat_vs_Dog/dog.612.jpg', 'Cat_vs_Dog/dog.613.jpg', 'Cat_vs_Dog/dog.614.jpg', 'Cat_vs_Dog/dog.615.jpg', 'Cat_vs_Dog/dog.616.jpg', 'Cat_vs_Dog/dog.617.jpg', 'Cat_vs_Dog/dog.618.jpg', 'Cat_vs_Dog/dog.619.jpg', 'Cat_vs_Dog/dog.62.jpg', 'Cat_vs_Dog/dog.620.jpg', 'Cat_vs_Dog/dog.621.jpg', 'Cat_vs_Dog/dog.622.jpg', 'Cat_vs_Dog/dog.623.jpg', 'Cat_vs_Dog/dog.624.jpg', 'Cat_vs_Dog/dog.625.jpg', 'Cat_vs_Dog/dog.626.jpg', 'Cat_vs_Dog/dog.627.jpg', 'Cat_vs_Dog/dog.628.jpg', 'Cat_vs_Dog/dog.629.jpg', 'Cat_vs_Dog/dog.63.jpg', 'Cat_vs_Dog/dog.630.jpg', 'Cat_vs_Dog/dog.631.jpg', 'Cat_vs_Dog/dog.632.jpg', 'Cat_vs_Dog/dog.633.jpg', 'Cat_vs_Dog/dog.634.jpg', 'Cat_vs_Dog/dog.635.jpg', 'Cat_vs_Dog/dog.636.jpg', 'Cat_vs_Dog/dog.637.jpg', 'Cat_vs_Dog/dog.638.jpg', 'Cat_vs_Dog/dog.639.jpg', 'Cat_vs_Dog/dog.64.jpg', 'Cat_vs_Dog/dog.640.jpg', 'Cat_vs_Dog/dog.641.jpg', 'Cat_vs_Dog/dog.642.jpg', 'Cat_vs_Dog/dog.643.jpg', 'Cat_vs_Dog/dog.644.jpg', 'Cat_vs_Dog/dog.645.jpg', 'Cat_vs_Dog/dog.646.jpg', 'Cat_vs_Dog/dog.647.jpg', 'Cat_vs_Dog/dog.648.jpg', 'Cat_vs_Dog/dog.649.jpg', 'Cat_vs_Dog/dog.65.jpg', 'Cat_vs_Dog/dog.650.jpg', 'Cat_vs_Dog/dog.651.jpg', 'Cat_vs_Dog/dog.652.jpg', 'Cat_vs_Dog/dog.653.jpg', 'Cat_vs_Dog/dog.654.jpg', 'Cat_vs_Dog/dog.655.jpg', 'Cat_vs_Dog/dog.656.jpg', 'Cat_vs_Dog/dog.657.jpg', 'Cat_vs_Dog/dog.658.jpg', 'Cat_vs_Dog/dog.659.jpg', 'Cat_vs_Dog/dog.66.jpg', 'Cat_vs_Dog/dog.660.jpg', 'Cat_vs_Dog/dog.661.jpg', 'Cat_vs_Dog/dog.662.jpg', 'Cat_vs_Dog/dog.663.jpg', 'Cat_vs_Dog/dog.664.jpg', 'Cat_vs_Dog/dog.665.jpg', 'Cat_vs_Dog/dog.666.jpg', 'Cat_vs_Dog/dog.667.jpg', 'Cat_vs_Dog/dog.668.jpg', 'Cat_vs_Dog/dog.669.jpg', 'Cat_vs_Dog/dog.67.jpg', 'Cat_vs_Dog/dog.670.jpg', 'Cat_vs_Dog/dog.671.jpg', 'Cat_vs_Dog/dog.672.jpg', 'Cat_vs_Dog/dog.673.jpg', 'Cat_vs_Dog/dog.674.jpg', 'Cat_vs_Dog/dog.675.jpg', 'Cat_vs_Dog/dog.676.jpg', 'Cat_vs_Dog/dog.677.jpg', 'Cat_vs_Dog/dog.678.jpg', 'Cat_vs_Dog/dog.679.jpg', 'Cat_vs_Dog/dog.68.jpg', 'Cat_vs_Dog/dog.680.jpg', 'Cat_vs_Dog/dog.681.jpg', 'Cat_vs_Dog/dog.682.jpg', 'Cat_vs_Dog/dog.683.jpg', 'Cat_vs_Dog/dog.684.jpg', 'Cat_vs_Dog/dog.685.jpg', 'Cat_vs_Dog/dog.686.jpg', 'Cat_vs_Dog/dog.687.jpg', 'Cat_vs_Dog/dog.688.jpg', 'Cat_vs_Dog/dog.689.jpg', 'Cat_vs_Dog/dog.69.jpg', 'Cat_vs_Dog/dog.690.jpg', 'Cat_vs_Dog/dog.691.jpg', 'Cat_vs_Dog/dog.692.jpg', 'Cat_vs_Dog/dog.693.jpg', 'Cat_vs_Dog/dog.694.jpg', 'Cat_vs_Dog/dog.695.jpg', 'Cat_vs_Dog/dog.696.jpg', 'Cat_vs_Dog/dog.697.jpg', 'Cat_vs_Dog/dog.698.jpg', 'Cat_vs_Dog/dog.699.jpg', 'Cat_vs_Dog/dog.7.jpg', 'Cat_vs_Dog/dog.70.jpg', 'Cat_vs_Dog/dog.700.jpg', 'Cat_vs_Dog/dog.701.jpg', 'Cat_vs_Dog/dog.702.jpg', 'Cat_vs_Dog/dog.703.jpg', 'Cat_vs_Dog/dog.704.jpg', 'Cat_vs_Dog/dog.705.jpg', 'Cat_vs_Dog/dog.706.jpg', 'Cat_vs_Dog/dog.707.jpg', 'Cat_vs_Dog/dog.708.jpg', 'Cat_vs_Dog/dog.709.jpg', 'Cat_vs_Dog/dog.71.jpg', 'Cat_vs_Dog/dog.710.jpg', 'Cat_vs_Dog/dog.711.jpg', 'Cat_vs_Dog/dog.712.jpg', 'Cat_vs_Dog/dog.713.jpg', 'Cat_vs_Dog/dog.714.jpg', 'Cat_vs_Dog/dog.715.jpg', 'Cat_vs_Dog/dog.716.jpg', 'Cat_vs_Dog/dog.717.jpg', 'Cat_vs_Dog/dog.718.jpg', 'Cat_vs_Dog/dog.719.jpg', 'Cat_vs_Dog/dog.72.jpg', 'Cat_vs_Dog/dog.720.jpg', 'Cat_vs_Dog/dog.721.jpg', 'Cat_vs_Dog/dog.722.jpg', 'Cat_vs_Dog/dog.723.jpg', 'Cat_vs_Dog/dog.724.jpg', 'Cat_vs_Dog/dog.725.jpg', 'Cat_vs_Dog/dog.726.jpg', 'Cat_vs_Dog/dog.727.jpg', 'Cat_vs_Dog/dog.728.jpg', 'Cat_vs_Dog/dog.729.jpg', 'Cat_vs_Dog/dog.73.jpg', 'Cat_vs_Dog/dog.730.jpg', 'Cat_vs_Dog/dog.731.jpg', 'Cat_vs_Dog/dog.732.jpg', 'Cat_vs_Dog/dog.733.jpg', 'Cat_vs_Dog/dog.734.jpg', 'Cat_vs_Dog/dog.735.jpg', 'Cat_vs_Dog/dog.736.jpg', 'Cat_vs_Dog/dog.737.jpg', 'Cat_vs_Dog/dog.738.jpg', 'Cat_vs_Dog/dog.739.jpg', 'Cat_vs_Dog/dog.74.jpg', 'Cat_vs_Dog/dog.740.jpg', 'Cat_vs_Dog/dog.741.jpg', 'Cat_vs_Dog/dog.742.jpg', 'Cat_vs_Dog/dog.743.jpg', 'Cat_vs_Dog/dog.744.jpg', 'Cat_vs_Dog/dog.745.jpg', 'Cat_vs_Dog/dog.746.jpg', 'Cat_vs_Dog/dog.747.jpg', 'Cat_vs_Dog/dog.748.jpg', 'Cat_vs_Dog/dog.749.jpg', 'Cat_vs_Dog/dog.75.jpg', 'Cat_vs_Dog/dog.750.jpg', 'Cat_vs_Dog/dog.751.jpg', 'Cat_vs_Dog/dog.752.jpg', 'Cat_vs_Dog/dog.753.jpg', 'Cat_vs_Dog/dog.754.jpg', 'Cat_vs_Dog/dog.755.jpg', 'Cat_vs_Dog/dog.756.jpg', 'Cat_vs_Dog/dog.757.jpg', 'Cat_vs_Dog/dog.758.jpg', 'Cat_vs_Dog/dog.759.jpg', 'Cat_vs_Dog/dog.76.jpg', 'Cat_vs_Dog/dog.760.jpg', 'Cat_vs_Dog/dog.761.jpg', 'Cat_vs_Dog/dog.762.jpg', 'Cat_vs_Dog/dog.763.jpg', 'Cat_vs_Dog/dog.764.jpg', 'Cat_vs_Dog/dog.765.jpg', 'Cat_vs_Dog/dog.766.jpg', 'Cat_vs_Dog/dog.767.jpg', 'Cat_vs_Dog/dog.768.jpg', 'Cat_vs_Dog/dog.769.jpg', 'Cat_vs_Dog/dog.77.jpg', 'Cat_vs_Dog/dog.770.jpg', 'Cat_vs_Dog/dog.771.jpg', 'Cat_vs_Dog/dog.772.jpg', 'Cat_vs_Dog/dog.773.jpg', 'Cat_vs_Dog/dog.774.jpg', 'Cat_vs_Dog/dog.775.jpg', 'Cat_vs_Dog/dog.776.jpg', 'Cat_vs_Dog/dog.777.jpg', 'Cat_vs_Dog/dog.778.jpg', 'Cat_vs_Dog/dog.779.jpg', 'Cat_vs_Dog/dog.78.jpg', 'Cat_vs_Dog/dog.780.jpg', 'Cat_vs_Dog/dog.781.jpg', 'Cat_vs_Dog/dog.782.jpg', 'Cat_vs_Dog/dog.783.jpg', 'Cat_vs_Dog/dog.784.jpg', 'Cat_vs_Dog/dog.785.jpg', 'Cat_vs_Dog/dog.786.jpg', 'Cat_vs_Dog/dog.787.jpg', 'Cat_vs_Dog/dog.788.jpg', 'Cat_vs_Dog/dog.789.jpg', 'Cat_vs_Dog/dog.79.jpg', 'Cat_vs_Dog/dog.790.jpg', 'Cat_vs_Dog/dog.791.jpg', 'Cat_vs_Dog/dog.792.jpg', 'Cat_vs_Dog/dog.793.jpg', 'Cat_vs_Dog/dog.794.jpg', 'Cat_vs_Dog/dog.795.jpg', 'Cat_vs_Dog/dog.796.jpg', 'Cat_vs_Dog/dog.797.jpg', 'Cat_vs_Dog/dog.798.jpg', 'Cat_vs_Dog/dog.799.jpg', 'Cat_vs_Dog/dog.8.jpg', 'Cat_vs_Dog/dog.80.jpg', 'Cat_vs_Dog/dog.800.jpg', 'Cat_vs_Dog/dog.801.jpg', 'Cat_vs_Dog/dog.802.jpg', 'Cat_vs_Dog/dog.803.jpg', 'Cat_vs_Dog/dog.804.jpg', 'Cat_vs_Dog/dog.805.jpg', 'Cat_vs_Dog/dog.806.jpg', 'Cat_vs_Dog/dog.807.jpg', 'Cat_vs_Dog/dog.808.jpg', 'Cat_vs_Dog/dog.809.jpg', 'Cat_vs_Dog/dog.81.jpg', 'Cat_vs_Dog/dog.810.jpg', 'Cat_vs_Dog/dog.811.jpg', 'Cat_vs_Dog/dog.812.jpg', 'Cat_vs_Dog/dog.813.jpg', 'Cat_vs_Dog/dog.814.jpg', 'Cat_vs_Dog/dog.815.jpg', 'Cat_vs_Dog/dog.816.jpg', 'Cat_vs_Dog/dog.817.jpg', 'Cat_vs_Dog/dog.818.jpg', 'Cat_vs_Dog/dog.819.jpg', 'Cat_vs_Dog/dog.82.jpg', 'Cat_vs_Dog/dog.820.jpg', 'Cat_vs_Dog/dog.821.jpg', 'Cat_vs_Dog/dog.822.jpg', 'Cat_vs_Dog/dog.823.jpg', 'Cat_vs_Dog/dog.824.jpg', 'Cat_vs_Dog/dog.825.jpg', 'Cat_vs_Dog/dog.826.jpg', 'Cat_vs_Dog/dog.827.jpg', 'Cat_vs_Dog/dog.828.jpg', 'Cat_vs_Dog/dog.829.jpg', 'Cat_vs_Dog/dog.83.jpg', 'Cat_vs_Dog/dog.830.jpg', 'Cat_vs_Dog/dog.831.jpg', 'Cat_vs_Dog/dog.832.jpg', 'Cat_vs_Dog/dog.833.jpg', 'Cat_vs_Dog/dog.834.jpg', 'Cat_vs_Dog/dog.835.jpg', 'Cat_vs_Dog/dog.836.jpg', 'Cat_vs_Dog/dog.837.jpg', 'Cat_vs_Dog/dog.838.jpg', 'Cat_vs_Dog/dog.839.jpg', 'Cat_vs_Dog/dog.84.jpg', 'Cat_vs_Dog/dog.840.jpg', 'Cat_vs_Dog/dog.841.jpg', 'Cat_vs_Dog/dog.842.jpg', 'Cat_vs_Dog/dog.843.jpg', 'Cat_vs_Dog/dog.844.jpg', 'Cat_vs_Dog/dog.845.jpg', 'Cat_vs_Dog/dog.846.jpg', 'Cat_vs_Dog/dog.847.jpg', 'Cat_vs_Dog/dog.848.jpg', 'Cat_vs_Dog/dog.849.jpg', 'Cat_vs_Dog/dog.85.jpg', 'Cat_vs_Dog/dog.850.jpg', 'Cat_vs_Dog/dog.851.jpg', 'Cat_vs_Dog/dog.852.jpg', 'Cat_vs_Dog/dog.853.jpg', 'Cat_vs_Dog/dog.854.jpg', 'Cat_vs_Dog/dog.855.jpg', 'Cat_vs_Dog/dog.856.jpg', 'Cat_vs_Dog/dog.857.jpg', 'Cat_vs_Dog/dog.858.jpg', 'Cat_vs_Dog/dog.859.jpg', 'Cat_vs_Dog/dog.86.jpg', 'Cat_vs_Dog/dog.860.jpg', 'Cat_vs_Dog/dog.861.jpg', 'Cat_vs_Dog/dog.862.jpg', 'Cat_vs_Dog/dog.863.jpg', 'Cat_vs_Dog/dog.864.jpg', 'Cat_vs_Dog/dog.865.jpg', 'Cat_vs_Dog/dog.866.jpg', 'Cat_vs_Dog/dog.867.jpg', 'Cat_vs_Dog/dog.868.jpg', 'Cat_vs_Dog/dog.869.jpg', 'Cat_vs_Dog/dog.87.jpg', 'Cat_vs_Dog/dog.870.jpg', 'Cat_vs_Dog/dog.871.jpg', 'Cat_vs_Dog/dog.872.jpg', 'Cat_vs_Dog/dog.873.jpg', 'Cat_vs_Dog/dog.874.jpg', 'Cat_vs_Dog/dog.875.jpg', 'Cat_vs_Dog/dog.876.jpg', 'Cat_vs_Dog/dog.877.jpg', 'Cat_vs_Dog/dog.878.jpg', 'Cat_vs_Dog/dog.879.jpg', 'Cat_vs_Dog/dog.88.jpg', 'Cat_vs_Dog/dog.880.jpg', 'Cat_vs_Dog/dog.881.jpg', 'Cat_vs_Dog/dog.882.jpg', 'Cat_vs_Dog/dog.883.jpg', 'Cat_vs_Dog/dog.884.jpg', 'Cat_vs_Dog/dog.885.jpg', 'Cat_vs_Dog/dog.886.jpg', 'Cat_vs_Dog/dog.887.jpg', 'Cat_vs_Dog/dog.888.jpg', 'Cat_vs_Dog/dog.889.jpg', 'Cat_vs_Dog/dog.89.jpg', 'Cat_vs_Dog/dog.890.jpg', 'Cat_vs_Dog/dog.891.jpg', 'Cat_vs_Dog/dog.892.jpg', 'Cat_vs_Dog/dog.893.jpg', 'Cat_vs_Dog/dog.894.jpg', 'Cat_vs_Dog/dog.895.jpg', 'Cat_vs_Dog/dog.896.jpg', 'Cat_vs_Dog/dog.897.jpg', 'Cat_vs_Dog/dog.898.jpg', 'Cat_vs_Dog/dog.899.jpg', 'Cat_vs_Dog/dog.9.jpg', 'Cat_vs_Dog/dog.90.jpg', 'Cat_vs_Dog/dog.900.jpg', 'Cat_vs_Dog/dog.901.jpg', 'Cat_vs_Dog/dog.902.jpg', 'Cat_vs_Dog/dog.903.jpg', 'Cat_vs_Dog/dog.904.jpg', 'Cat_vs_Dog/dog.905.jpg', 'Cat_vs_Dog/dog.906.jpg', 'Cat_vs_Dog/dog.907.jpg', 'Cat_vs_Dog/dog.908.jpg', 'Cat_vs_Dog/dog.909.jpg', 'Cat_vs_Dog/dog.91.jpg', 'Cat_vs_Dog/dog.910.jpg', 'Cat_vs_Dog/dog.911.jpg', 'Cat_vs_Dog/dog.912.jpg', 'Cat_vs_Dog/dog.913.jpg', 'Cat_vs_Dog/dog.914.jpg', 'Cat_vs_Dog/dog.915.jpg', 'Cat_vs_Dog/dog.916.jpg', 'Cat_vs_Dog/dog.917.jpg', 'Cat_vs_Dog/dog.918.jpg', 'Cat_vs_Dog/dog.919.jpg', 'Cat_vs_Dog/dog.92.jpg', 'Cat_vs_Dog/dog.920.jpg', 'Cat_vs_Dog/dog.921.jpg', 'Cat_vs_Dog/dog.922.jpg', 'Cat_vs_Dog/dog.923.jpg', 'Cat_vs_Dog/dog.924.jpg', 'Cat_vs_Dog/dog.925.jpg', 'Cat_vs_Dog/dog.926.jpg', 'Cat_vs_Dog/dog.927.jpg', 'Cat_vs_Dog/dog.928.jpg', 'Cat_vs_Dog/dog.929.jpg', 'Cat_vs_Dog/dog.93.jpg', 'Cat_vs_Dog/dog.930.jpg', 'Cat_vs_Dog/dog.931.jpg', 'Cat_vs_Dog/dog.932.jpg', 'Cat_vs_Dog/dog.933.jpg', 'Cat_vs_Dog/dog.934.jpg', 'Cat_vs_Dog/dog.935.jpg', 'Cat_vs_Dog/dog.936.jpg', 'Cat_vs_Dog/dog.937.jpg', 'Cat_vs_Dog/dog.938.jpg', 'Cat_vs_Dog/dog.939.jpg', 'Cat_vs_Dog/dog.94.jpg', 'Cat_vs_Dog/dog.940.jpg', 'Cat_vs_Dog/dog.941.jpg', 'Cat_vs_Dog/dog.942.jpg', 'Cat_vs_Dog/dog.943.jpg', 'Cat_vs_Dog/dog.944.jpg', 'Cat_vs_Dog/dog.945.jpg', 'Cat_vs_Dog/dog.946.jpg', 'Cat_vs_Dog/dog.947.jpg', 'Cat_vs_Dog/dog.948.jpg', 'Cat_vs_Dog/dog.949.jpg', 'Cat_vs_Dog/dog.95.jpg', 'Cat_vs_Dog/dog.950.jpg', 'Cat_vs_Dog/dog.951.jpg', 'Cat_vs_Dog/dog.952.jpg', 'Cat_vs_Dog/dog.953.jpg', 'Cat_vs_Dog/dog.954.jpg', 'Cat_vs_Dog/dog.955.jpg', 'Cat_vs_Dog/dog.956.jpg', 'Cat_vs_Dog/dog.957.jpg', 'Cat_vs_Dog/dog.958.jpg', 'Cat_vs_Dog/dog.96.jpg', 'Cat_vs_Dog/dog.97.jpg', 'Cat_vs_Dog/dog.98.jpg', 'Cat_vs_Dog/dog.99.jpg']\n"
     ]
    }
   ],
   "source": [
    "# grab the list of images that we'll be describing\n",
    "print(\"[INFO] describing images...\")\n",
    "imagePaths = list(paths.list_images(\"Cat_vs_Dog/\"))\n",
    "print(imagePaths)\n",
    "# initialize the raw pixel intensities matrix, the features matrix,\n",
    "# and labels list\n",
    "rawImages = []\n",
    "features = []\n",
    "labels = []"
   ]
  },
  {
   "cell_type": "markdown",
   "metadata": {},
   "source": [
    "## convert to feature vectors"
   ]
  },
  {
   "cell_type": "code",
   "execution_count": 8,
   "metadata": {},
   "outputs": [
    {
     "name": "stdout",
     "output_type": "stream",
     "text": [
      "[INFO] processed 1000/1981\n",
      "[INFO] pixels matrix: 5.94MB\n",
      "[INFO] features matrix: 3.96MB\n"
     ]
    }
   ],
   "source": [
    "\n",
    "# loop over the input images\n",
    "for (i, imagePath) in enumerate(imagePaths):\n",
    "\t# load the image and extract the class label (assuming that our\n",
    "\t# path as the format: /path/to/dataset/{class}.{image_num}.jpg\n",
    "\timage = cv2.imread(imagePath)\n",
    "\tlabel = imagePath.split(os.path.sep)[-1].split(\".\")[0]\n",
    " \n",
    "\t# extract raw pixel intensity \"features\", followed by a color\n",
    "\t# histogram to characterize the color distribution of the pixels\n",
    "\t# in the image\n",
    "\tpixels = image_to_feature_vector(image)\n",
    "\thist = extract_color_histogram(image)\n",
    " \n",
    "\t# update the raw images, features, and labels matricies,\n",
    "\t# respectively\n",
    "\trawImages.append(pixels)\n",
    "\tfeatures.append(hist)\n",
    "\tlabels.append(label)\n",
    " \n",
    "\t# show an update every 1,000 images\n",
    "\tif i > 0 and i % 1000 == 0:\n",
    "\t\tprint(\"[INFO] processed {}/{}\".format(i, len(imagePaths)))\n",
    "\t\t\n",
    "\t\t\n",
    "\t\t\n",
    "# show some information on the memory consumed by the raw images\n",
    "# matrix and features matrix\n",
    "rawImages = np.array(rawImages)\n",
    "features = np.array(features)\n",
    "labels = np.array(labels)\n",
    "print(\"[INFO] pixels matrix: {:.2f}MB\".format(\n",
    "\trawImages.nbytes / (1024 * 1000.0)))\n",
    "print(\"[INFO] features matrix: {:.2f}MB\".format(\n",
    "\tfeatures.nbytes / (1024 * 1000.0)))"
   ]
  },
  {
   "cell_type": "markdown",
   "metadata": {},
   "source": [
    "## partition the data into training and test sets "
   ]
  },
  {
   "cell_type": "code",
   "execution_count": null,
   "metadata": {
    "collapsed": true
   },
   "outputs": [],
   "source": [
    "# partition the data into training and testing splits, using 75%\n",
    "# of the data for training and the remaining 25% for testing\n",
    "(trainRI, testRI, trainRL, testRL) = train_test_split(\n",
    "\trawImages, labels, test_size=0.25, random_state=42)\n",
    "(trainFeat, testFeat, trainLabels, testLabels) = train_test_split(\n",
    "\tfeatures, labels, test_size=0.25, random_state=42)\n"
   ]
  },
  {
   "cell_type": "markdown",
   "metadata": {},
   "source": [
    "# kNN "
   ]
  },
  {
   "cell_type": "code",
   "execution_count": 53,
   "metadata": {
    "scrolled": true
   },
   "outputs": [
    {
     "name": "stdout",
     "output_type": "stream",
     "text": [
      "[INFO] evaluating raw pixel accuracy...\n",
      "[INFO] raw pixel accuracy: 60.69%\n"
     ]
    }
   ],
   "source": [
    "from sklearn.neighbors import KNeighborsClassifier\n",
    "\n",
    "# train and evaluate a k-NN classifer on the raw pixel intensities\n",
    "print(\"[INFO] evaluating raw pixel accuracy...\")\n",
    "model = KNeighborsClassifier(n_neighbors=5,\n",
    "\tn_jobs=10)\n",
    "model.fit(trainRI, trainRL)\n",
    "acc = model.score(testRI, testRL)\n",
    "print(\"[INFO] raw pixel accuracy: {:.2f}%\".format(acc * 100))"
   ]
  },
  {
   "cell_type": "code",
   "execution_count": 25,
   "metadata": {},
   "outputs": [
    {
     "name": "stdout",
     "output_type": "stream",
     "text": [
      "[INFO] evaluating histogram accuracy...\n",
      "[INFO] histogram accuracy: 58.06%\n"
     ]
    }
   ],
   "source": [
    "\n",
    "# train and evaluate a k-NN classifer on the histogram\n",
    "# representations\n",
    "print(\"[INFO] evaluating histogram accuracy...\")\n",
    "model = KNeighborsClassifier(n_neighbors=5,\n",
    "\tn_jobs=10)\n",
    "model.fit(trainFeat, trainLabels)\n",
    "acc = model.score(testFeat, testLabels)\n",
    "print(\"[INFO] histogram accuracy: {:.2f}%\".format(acc * 100))"
   ]
  },
  {
   "cell_type": "markdown",
   "metadata": {},
   "source": [
    "# SVM"
   ]
  },
  {
   "cell_type": "code",
   "execution_count": 36,
   "metadata": {},
   "outputs": [
    {
     "name": "stdout",
     "output_type": "stream",
     "text": [
      "[INFO] evaluating raw pixel accuracy...\n",
      "[INFO] raw pixel accuracy: 63.71%\n"
     ]
    }
   ],
   "source": [
    "from sklearn import svm\n",
    "# train and evaluate a k-NN classifer on the raw pixel intensities\n",
    "print(\"[INFO] evaluating raw pixel accuracy...\")\n",
    "model = svm.SVC(C=1,gamma=0.001,kernel='poly')\n",
    "model.fit(trainRI, trainRL)\n",
    "acc = model.score(testRI, testRL)\n",
    "print(\"[INFO] raw pixel accuracy: {:.2f}%\".format(acc * 100))"
   ]
  },
  {
   "cell_type": "code",
   "execution_count": 39,
   "metadata": {},
   "outputs": [
    {
     "name": "stdout",
     "output_type": "stream",
     "text": [
      "[INFO] evaluating raw pixel accuracy...\n",
      "[INFO] raw pixel accuracy: 60.08%\n"
     ]
    }
   ],
   "source": [
    "# train and evaluate a k-NN classifer on the raw pixel intensities\n",
    "print(\"[INFO] evaluating raw pixel accuracy...\")\n",
    "model = svm.SVC(C=1,gamma=0.001,kernel='linear')\n",
    "model.fit(trainFeat, trainLabels)\n",
    "acc = model.score(testFeat, testLabels)\n",
    "print(\"[INFO] raw pixel accuracy: {:.2f}%\".format(acc * 100))"
   ]
  },
  {
   "cell_type": "markdown",
   "metadata": {},
   "source": [
    "# Decision tree"
   ]
  },
  {
   "cell_type": "code",
   "execution_count": 40,
   "metadata": {},
   "outputs": [
    {
     "name": "stdout",
     "output_type": "stream",
     "text": [
      "[INFO] evaluating raw pixel accuracy...\n",
      "[INFO] raw pixel accuracy: 53.83%\n"
     ]
    }
   ],
   "source": [
    "from sklearn import tree\n",
    "# train and evaluate a k-NN classifer on the raw pixel intensities\n",
    "print(\"[INFO] evaluating raw pixel accuracy...\")\n",
    "model = tree.DecisionTreeClassifier()\n",
    "model.fit(trainRI, trainRL)\n",
    "acc = model.score(testRI, testRL)\n",
    "print(\"[INFO] raw pixel accuracy: {:.2f}%\".format(acc * 100))"
   ]
  },
  {
   "cell_type": "code",
   "execution_count": 41,
   "metadata": {},
   "outputs": [
    {
     "name": "stdout",
     "output_type": "stream",
     "text": [
      "[INFO] evaluating raw pixel accuracy...\n",
      "[INFO] raw pixel accuracy: 55.44%\n"
     ]
    }
   ],
   "source": [
    "\n",
    "# train and evaluate a k-NN classifer on the raw pixel intensities\n",
    "print(\"[INFO] evaluating raw pixel accuracy...\")\n",
    "model = tree.DecisionTreeClassifier()\n",
    "model.fit(trainFeat, trainLabels)\n",
    "acc = model.score(testFeat, testLabels)\n",
    "print(\"[INFO] raw pixel accuracy: {:.2f}%\".format(acc * 100))"
   ]
  },
  {
   "cell_type": "markdown",
   "metadata": {},
   "source": [
    "# Random forest"
   ]
  },
  {
   "cell_type": "code",
   "execution_count": 60,
   "metadata": {},
   "outputs": [
    {
     "name": "stdout",
     "output_type": "stream",
     "text": [
      "[INFO] evaluating raw pixel accuracy...\n",
      "[INFO] raw pixel accuracy: 63.10%\n"
     ]
    }
   ],
   "source": [
    "from sklearn.ensemble import RandomForestClassifier\n",
    "# train and evaluate a k-NN classifer on the raw pixel intensities\n",
    "print(\"[INFO] evaluating raw pixel accuracy...\")\n",
    "model = RandomForestClassifier(n_estimators=75, max_depth=5,random_state=0)\n",
    "model.fit(trainRI, trainRL)\n",
    "acc = model.score(testRI, testRL)\n",
    "print(\"[INFO] raw pixel accuracy: {:.2f}%\".format(acc * 100))"
   ]
  },
  {
   "cell_type": "code",
   "execution_count": 61,
   "metadata": {},
   "outputs": [
    {
     "name": "stdout",
     "output_type": "stream",
     "text": [
      "[INFO] evaluating raw pixel accuracy...\n",
      "[INFO] raw pixel accuracy: 67.34%\n"
     ]
    }
   ],
   "source": [
    "# train and evaluate a k-NN classifer on the raw pixel intensities\n",
    "print(\"[INFO] evaluating raw pixel accuracy...\")\n",
    "model = RandomForestClassifier(n_estimators=75, max_depth=5,random_state=0)\n",
    "model.fit(trainFeat, trainLabels)\n",
    "acc = model.score(testFeat, testLabels)\n",
    "print(\"[INFO] raw pixel accuracy: {:.2f}%\".format(acc * 100))"
   ]
  },
  {
   "cell_type": "markdown",
   "metadata": {},
   "source": [
    "# Confusion matrix - accuracy - precision - recall "
   ]
  },
  {
   "cell_type": "code",
   "execution_count": 82,
   "metadata": {},
   "outputs": [
    {
     "data": {
      "text/plain": [
       "array([[193,  90],\n",
       "       [ 72, 141]], dtype=int64)"
      ]
     },
     "execution_count": 82,
     "metadata": {},
     "output_type": "execute_result"
    }
   ],
   "source": [
    "from sklearn.metrics import confusion_matrix, precision_score , recall_score\n",
    "#from sklearn import metrics\n",
    "\n",
    "y = model.predict(testFeat)\n",
    "confusion_matrix(y, testLabels)\n"
   ]
  },
  {
   "cell_type": "code",
   "execution_count": 86,
   "metadata": {},
   "outputs": [
    {
     "data": {
      "text/plain": [
       "0.67338709677419351"
      ]
     },
     "execution_count": 86,
     "metadata": {},
     "output_type": "execute_result"
    }
   ],
   "source": [
    "model.score(testFeat, testLabels)"
   ]
  },
  {
   "cell_type": "code",
   "execution_count": 83,
   "metadata": {},
   "outputs": [
    {
     "data": {
      "text/plain": [
       "0.66934574859103158"
      ]
     },
     "execution_count": 83,
     "metadata": {},
     "output_type": "execute_result"
    }
   ],
   "source": [
    "precision_score(y, testLabels, average='macro')  "
   ]
  },
  {
   "cell_type": "code",
   "execution_count": 84,
   "metadata": {},
   "outputs": [
    {
     "data": {
      "text/plain": [
       "0.67197531478624395"
      ]
     },
     "execution_count": 84,
     "metadata": {},
     "output_type": "execute_result"
    }
   ],
   "source": [
    "recall_score(y, testLabels, average='macro')  "
   ]
  }
 ],
 "metadata": {
  "kernelspec": {
   "display_name": "Python 3",
   "language": "python",
   "name": "python3"
  },
  "language_info": {
   "codemirror_mode": {
    "name": "ipython",
    "version": 3
   },
   "file_extension": ".py",
   "mimetype": "text/x-python",
   "name": "python",
   "nbconvert_exporter": "python",
   "pygments_lexer": "ipython3",
   "version": "3.5.4"
  }
 },
 "nbformat": 4,
 "nbformat_minor": 2
}
