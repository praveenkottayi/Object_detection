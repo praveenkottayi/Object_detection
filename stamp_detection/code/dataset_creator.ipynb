{
 "cells": [
  {
   "cell_type": "code",
   "execution_count": 6,
   "metadata": {},
   "outputs": [],
   "source": [
    "import cv2\n",
    "import numpy as np\n",
    "import matplotlib.pyplot as plt\n",
    "import os\n",
    "import random"
   ]
  },
  {
   "cell_type": "code",
   "execution_count": 19,
   "metadata": {},
   "outputs": [],
   "source": [
    "images_path = \"/home/pyimagesearch/Desktop/stamp/dataset/non_stamp_samples/\"\n",
    "save_path = \"/home/pyimagesearch/Desktop/stamp/dataset/non_stamp/\""
   ]
  },
  {
   "cell_type": "markdown",
   "metadata": {},
   "source": [
    "# Read non stamp samples and conditionaly sample parts from it to form more data points"
   ]
  },
  {
   "cell_type": "code",
   "execution_count": 20,
   "metadata": {},
   "outputs": [
    {
     "name": "stdout",
     "output_type": "stream",
     "text": [
      "keeping 18 images to analyze\n"
     ]
    }
   ],
   "source": [
    "max_num_images = 35\n",
    "\n",
    "images = [os.path.join(dp, f) for dp, dn, filenames in os.walk(images_path) for f in filenames if os.path.splitext(f)[1].lower() in ['.jpg','.png','.jpeg']]\n",
    "if max_num_images < len(images):\n",
    "    images = [images[i] for i in sorted(random.sample(range(len(images)), max_num_images))]\n",
    "\n",
    "print(\"keeping %d images to analyze\" % len(images))"
   ]
  },
  {
   "cell_type": "code",
   "execution_count": 21,
   "metadata": {},
   "outputs": [
    {
     "name": "stdout",
     "output_type": "stream",
     "text": [
      "/home/pyimagesearch/Desktop/stamp/dataset/non_stamp_samples/world-legalization-faq-document-authentication-uae-algeria-afghanistan-zambia-oman-egypt-10-638.jpg\n",
      "(825, 638, 3)\n",
      "/home/pyimagesearch/Desktop/stamp/dataset/non_stamp_samples/apostille_ca.jpg\n",
      "(3229, 2480, 3)\n",
      "/home/pyimagesearch/Desktop/stamp/dataset/non_stamp_samples/newcacert.JPG\n",
      "(368, 595, 3)\n",
      "/home/pyimagesearch/Desktop/stamp/dataset/non_stamp_samples/montana-notary-public-handbook-for-notary-signature-format.jpg\n",
      "(413, 667, 3)\n",
      "/home/pyimagesearch/Desktop/stamp/dataset/non_stamp_samples/5cc64fa307a72b47f7fae9d58a7d6547.jpg\n",
      "(1787, 2448, 3)\n",
      "/home/pyimagesearch/Desktop/stamp/dataset/non_stamp_samples/46082054729d1f1c4cb6d2941ec7e8e4.jpg\n",
      "(518, 400, 3)\n",
      "/home/pyimagesearch/Desktop/stamp/dataset/non_stamp_samples/awesome-collection-of-free-affidavits-forms-pdf-template-epic-affidavit-forms-of-affidavit-forms.jpg\n",
      "(3300, 2550, 3)\n",
      "/home/pyimagesearch/Desktop/stamp/dataset/non_stamp_samples/25f94a1166c0ec4239d6972a87fe41f3--naples-italy-stamps.jpg\n",
      "(652, 736, 3)\n",
      "/home/pyimagesearch/Desktop/stamp/dataset/non_stamp_samples/photo-promissory-note-blank-form-images-doc12751650-1000-ideas-12751650-doc878995-sample-promisory-template-roster-coupon-templates-flow-chart-example-stock-certificate-free-writing.jpg\n",
      "(1650, 1275, 3)\n",
      "/home/pyimagesearch/Desktop/stamp/dataset/non_stamp_samples/radwa-experience-letter-1-638.jpg\n",
      "(826, 638, 3)\n",
      "/home/pyimagesearch/Desktop/stamp/dataset/non_stamp_samples/g15906613.jpg\n",
      "(810, 626, 3)\n",
      "/home/pyimagesearch/Desktop/stamp/dataset/non_stamp_samples/index.png\n",
      "(255, 197, 3)\n",
      "/home/pyimagesearch/Desktop/stamp/dataset/non_stamp_samples/Denny_Notary_Opinion_2018.jpg\n",
      "(385, 300, 3)\n",
      "/home/pyimagesearch/Desktop/stamp/dataset/non_stamp_samples/SIGAR%u2019s-request-for-information-from-the-Department-of-Defense..jpg\n",
      "(776, 600, 3)\n",
      "/home/pyimagesearch/Desktop/stamp/dataset/non_stamp_samples/Stamp Paper for Attestation.jpg\n",
      "(1600, 1163, 3)\n",
      "/home/pyimagesearch/Desktop/stamp/dataset/non_stamp_samples/rk1.jpg\n",
      "(517, 450, 3)\n",
      "/home/pyimagesearch/Desktop/stamp/dataset/non_stamp_samples/1.jpeg\n",
      "(168, 299, 3)\n",
      "/home/pyimagesearch/Desktop/stamp/dataset/non_stamp_samples/06.png\n",
      "(276, 409, 3)\n"
     ]
    }
   ],
   "source": [
    "c=0\n",
    "for i in (images):\n",
    "    print(i)\n",
    "    c=c+1\n",
    "    img = cv2.imread(i, 1)    \n",
    "    print(img.shape)\n",
    "    for j in range (1,200):\n",
    "        x = round(random.random()*img.shape[0])\n",
    "        y = round(random.random()*img.shape[1])    \n",
    "        #plt.imshow(img[0:x,0:y])\n",
    "        if (y/(x+0.000000000001) > 1):\n",
    "            file = save_path+ str(c)+ str(j) + \".png\"\n",
    "            cv2.imwrite(file,img[x:x+224,y:y+224])"
   ]
  },
  {
   "cell_type": "markdown",
   "metadata": {},
   "source": [
    "# convert stamp samples from COLOR to black & white"
   ]
  },
  {
   "cell_type": "code",
   "execution_count": 22,
   "metadata": {},
   "outputs": [],
   "source": [
    "images_path = \"/home/pyimagesearch/Desktop/stamp/dataset/stamp/\""
   ]
  },
  {
   "cell_type": "code",
   "execution_count": 23,
   "metadata": {},
   "outputs": [
    {
     "name": "stdout",
     "output_type": "stream",
     "text": [
      "keeping 50 images to analyze\n"
     ]
    }
   ],
   "source": [
    "max_num_images = 50\n",
    "\n",
    "images = [os.path.join(dp, f) for dp, dn, filenames in os.walk(images_path) for f in filenames if os.path.splitext(f)[1].lower() in ['.jpg','.png','.jpeg']]\n",
    "if max_num_images < len(images):\n",
    "    images = [images[i] for i in sorted(random.sample(range(len(images)), max_num_images))]\n",
    "\n",
    "print(\"keeping %d images to analyze\" % len(images))"
   ]
  },
  {
   "cell_type": "code",
   "execution_count": 24,
   "metadata": {},
   "outputs": [
    {
     "name": "stdout",
     "output_type": "stream",
     "text": [
      "/home/pyimagesearch/Desktop/stamp/dataset/stamp/images.55.jpeg\n",
      "(197, 256, 3)\n",
      "/home/pyimagesearch/Desktop/stamp/dataset/stamp/s.jpg\n",
      "(390, 661, 3)\n",
      "/home/pyimagesearch/Desktop/stamp/dataset/stamp/6323418_stock-vector-stamp-word-coming-soon.jpg\n",
      "(600, 600, 3)\n",
      "/home/pyimagesearch/Desktop/stamp/dataset/stamp/images2.jpeg\n",
      "(222, 227, 3)\n",
      "/home/pyimagesearch/Desktop/stamp/dataset/stamp/s3.jpg\n",
      "(211, 226, 3)\n",
      "/home/pyimagesearch/Desktop/stamp/dataset/stamp/date-rubber-stamps.jpg\n",
      "(400, 608, 3)\n",
      "/home/pyimagesearch/Desktop/stamp/dataset/stamp/999.jpeg\n",
      "(150, 233, 3)\n",
      "/home/pyimagesearch/Desktop/stamp/dataset/stamp/date-stamp.jpg\n",
      "(159, 159, 3)\n",
      "/home/pyimagesearch/Desktop/stamp/dataset/stamp/stock-vector-rubber-stamp-welcome-to-munich-germany-vector-illustration-662347507.jpg\n",
      "(470, 450, 3)\n",
      "/home/pyimagesearch/Desktop/stamp/dataset/stamp/depositphotos_5433728-stock-illustration-thailand-stamp.jpg\n",
      "(779, 1023, 3)\n",
      "/home/pyimagesearch/Desktop/stamp/dataset/stamp/1111.png\n",
      "(176, 286, 3)\n",
      "/home/pyimagesearch/Desktop/stamp/dataset/stamp/333.jpeg\n",
      "(225, 224, 3)\n",
      "/home/pyimagesearch/Desktop/stamp/dataset/stamp/821270959_6_1000x700_rubber-stamp-and-company-seal-_rev002.jpg\n",
      "(469, 625, 3)\n",
      "/home/pyimagesearch/Desktop/stamp/dataset/stamp/ss-stamp-lo-res1.jpg\n",
      "(800, 800, 3)\n",
      "/home/pyimagesearch/Desktop/stamp/dataset/stamp/Emblem Red University Raised S.jpg\n",
      "(102, 100, 3)\n",
      "/home/pyimagesearch/Desktop/stamp/dataset/stamp/images.11.jpeg\n",
      "(225, 225, 3)\n",
      "/home/pyimagesearch/Desktop/stamp/dataset/stamp/22.jpeg\n",
      "(227, 222, 3)\n",
      "/home/pyimagesearch/Desktop/stamp/dataset/stamp/Last-date.jpg\n",
      "(499, 2534, 3)\n",
      "/home/pyimagesearch/Desktop/stamp/dataset/stamp/53fe640e432d014f548f05915568551e.jpg\n",
      "(651, 650, 3)\n",
      "/home/pyimagesearch/Desktop/stamp/dataset/stamp/images.png\n",
      "(225, 224, 3)\n",
      "/home/pyimagesearch/Desktop/stamp/dataset/stamp/5f5f030f63ed56819a1d523825a62314.jpg\n",
      "(261, 260, 3)\n",
      "/home/pyimagesearch/Desktop/stamp/dataset/stamp/polymer-rubber-stamps-one-pc-crystal-mount-handle-500x500.jpg\n",
      "(247, 500, 3)\n",
      "/home/pyimagesearch/Desktop/stamp/dataset/stamp/approved-stamp-clip-art-vector_csp17014068.jpg\n",
      "(470, 450, 3)\n",
      "/home/pyimagesearch/Desktop/stamp/dataset/stamp/s5.jpg\n",
      "(281, 626, 3)\n",
      "/home/pyimagesearch/Desktop/stamp/dataset/stamp/images6.jpeg\n",
      "(174, 289, 3)\n",
      "/home/pyimagesearch/Desktop/stamp/dataset/stamp/images1.png\n",
      "(229, 220, 3)\n",
      "/home/pyimagesearch/Desktop/stamp/dataset/stamp/16574bf3812ccaf.jpg\n",
      "(487, 514, 3)\n",
      "/home/pyimagesearch/Desktop/stamp/dataset/stamp/b32c1a80c9b51ed4b93823e30bb71d1b.jpg\n",
      "(500, 500, 3)\n",
      "/home/pyimagesearch/Desktop/stamp/dataset/stamp/images4.png\n",
      "(168, 300, 3)\n",
      "/home/pyimagesearch/Desktop/stamp/dataset/stamp/received-date-rubber-stamp-print-isolated-whit-4730245.jpg\n",
      "(504, 800, 3)\n",
      "/home/pyimagesearch/Desktop/stamp/dataset/stamp/images7.jpeg\n",
      "(188, 268, 3)\n",
      "/home/pyimagesearch/Desktop/stamp/dataset/stamp/s4.jpg\n",
      "(131, 258, 3)\n",
      "/home/pyimagesearch/Desktop/stamp/dataset/stamp/images.0.png\n",
      "(174, 289, 3)\n",
      "/home/pyimagesearch/Desktop/stamp/dataset/stamp/Entry_Stamp_Cayman.jpg\n",
      "(150, 200, 3)\n",
      "/home/pyimagesearch/Desktop/stamp/dataset/stamp/44.jpeg\n",
      "(225, 225, 3)\n",
      "/home/pyimagesearch/Desktop/stamp/dataset/stamp/index.png\n",
      "(188, 268, 3)\n",
      "/home/pyimagesearch/Desktop/stamp/dataset/stamp/seal-of-approval-stamp-eps-vectors_csp15147333.jpg\n",
      "(367, 450, 3)\n",
      "/home/pyimagesearch/Desktop/stamp/dataset/stamp/corporate-seal-stamps.jpg\n",
      "(225, 400, 3)\n",
      "/home/pyimagesearch/Desktop/stamp/dataset/stamp/rubber-stamps-in-powerpoint-template_1.jpg\n",
      "(351, 468, 3)\n",
      "/home/pyimagesearch/Desktop/stamp/dataset/stamp/receipt-stamp-triangles-can-change-the-company-seal-date-stamp-cash-receipt-stamp-company-seal-free-and-receipt-stamp-definition.jpg\n",
      "(500, 500, 3)\n",
      "/home/pyimagesearch/Desktop/stamp/dataset/stamp/images9.png\n",
      "(225, 225, 3)\n",
      "/home/pyimagesearch/Desktop/stamp/dataset/stamp/Pharmacy Council Reg Certificate 2.jpg\n",
      "(1091, 1600, 3)\n",
      "/home/pyimagesearch/Desktop/stamp/dataset/stamp/s2.jpg\n",
      "(142, 129, 3)\n",
      "/home/pyimagesearch/Desktop/stamp/dataset/stamp/f3ae7fbf309dc5bc970ebef91df7f9ab.jpg\n",
      "(630, 650, 3)\n",
      "/home/pyimagesearch/Desktop/stamp/dataset/stamp/accounting-stamp-received-blue.jpg\n",
      "(142, 242, 3)\n",
      "/home/pyimagesearch/Desktop/stamp/dataset/stamp/welcome-to-munich-stamp-clip-art-vector_csp31800961.jpg\n",
      "(470, 450, 3)\n",
      "/home/pyimagesearch/Desktop/stamp/dataset/stamp/79653063-grunge-red-certified-round-rubber-seal-stamp-on-white-background.jpg\n",
      "(1300, 1300, 3)\n",
      "/home/pyimagesearch/Desktop/stamp/dataset/stamp/depositphotos_29274565-stock-illustration-munich-stamp.jpg\n",
      "(1024, 1024, 3)\n",
      "/home/pyimagesearch/Desktop/stamp/dataset/stamp/images.10.png\n",
      "(225, 225, 3)\n",
      "/home/pyimagesearch/Desktop/stamp/dataset/stamp/77.jpeg\n",
      "(180, 279, 3)\n"
     ]
    }
   ],
   "source": [
    "c=0\n",
    "for i in (images):\n",
    "    print(i)\n",
    "    c=c+1\n",
    "    img = cv2.imread(i, 1)  \n",
    "    ret, img = cv2.threshold(img, 200, 255, cv2.THRESH_BINARY)\n",
    "    print(img.shape)\n",
    "    file = images_path + str(c)+ \".png\"\n",
    "    cv2.imwrite(file,img)"
   ]
  },
  {
   "cell_type": "code",
   "execution_count": null,
   "metadata": {},
   "outputs": [],
   "source": []
  }
 ],
 "metadata": {
  "kernelspec": {
   "display_name": "Python 3",
   "language": "python",
   "name": "python3"
  },
  "language_info": {
   "codemirror_mode": {
    "name": "ipython",
    "version": 3
   },
   "file_extension": ".py",
   "mimetype": "text/x-python",
   "name": "python",
   "nbconvert_exporter": "python",
   "pygments_lexer": "ipython3",
   "version": "3.5.2"
  }
 },
 "nbformat": 4,
 "nbformat_minor": 2
}
