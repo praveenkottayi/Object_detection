{
 "cells": [
  {
   "cell_type": "code",
   "execution_count": 1,
   "metadata": {},
   "outputs": [],
   "source": [
    "from PIL import Image\n",
    "import pytesseract\n",
    "import matplotlib.pyplot as plt\n",
    "import imutils"
   ]
  },
  {
   "cell_type": "code",
   "execution_count": 2,
   "metadata": {},
   "outputs": [],
   "source": [
    "# shape"
   ]
  },
  {
   "cell_type": "code",
   "execution_count": 3,
   "metadata": {},
   "outputs": [],
   "source": [
    "# color"
   ]
  },
  {
   "cell_type": "code",
   "execution_count": 4,
   "metadata": {},
   "outputs": [],
   "source": [
    "# adaptive threshholding"
   ]
  },
  {
   "cell_type": "code",
   "execution_count": 5,
   "metadata": {},
   "outputs": [],
   "source": [
    "# Auto rotate  "
   ]
  },
  {
   "cell_type": "code",
   "execution_count": 6,
   "metadata": {},
   "outputs": [],
   "source": [
    "# histogram"
   ]
  },
  {
   "cell_type": "code",
   "execution_count": null,
   "metadata": {},
   "outputs": [],
   "source": [
    "# "
   ]
  },
  {
   "cell_type": "code",
   "execution_count": 7,
   "metadata": {},
   "outputs": [],
   "source": [
    "# correct spelling \n",
    "#from autocorrect import spell\n",
    "#print spell('caaaar')"
   ]
  },
  {
   "cell_type": "code",
   "execution_count": 33,
   "metadata": {},
   "outputs": [],
   "source": [
    "from PIL import Image\n",
    "\n",
    "basewidth = 300\n",
    "img = Image.open('temp/ttt.png')\n",
    "wpercent = (basewidth/float(img.size[0]))\n",
    "hsize = int((float(img.size[1])*float(wpercent)))\n",
    "img = img.resize((basewidth,hsize), Image.ANTIALIAS)\n",
    "img.save('temp/1_modified.png')"
   ]
  },
  {
   "cell_type": "code",
   "execution_count": 38,
   "metadata": {
    "scrolled": true
   },
   "outputs": [
    {
     "data": {
      "text/plain": [
       "['PIMPRI-CHENCHWAD']"
      ]
     },
     "execution_count": 38,
     "metadata": {},
     "output_type": "execute_result"
    },
    {
     "data": {
      "image/png": "[encoded data removed]",
      "text/plain": [
       "<matplotlib.figure.Figure at 0x7fe9e5eef9b0>"
      ]
     },
     "metadata": {},
     "output_type": "display_data"
    }
   ],
   "source": [
    "im=Image.open('temp/1_modified.png')\n",
    "threshold =  190 #167  #170\n",
    "im = im.point(lambda p: p > threshold and 255)\n",
    "#im = im.rotate(-6)\n",
    "plt.imshow(im)\n",
    "text = pytesseract.image_to_string(im)\n",
    "text.split('\\n')"
   ]
  },
  {
   "cell_type": "markdown",
   "metadata": {},
   "source": [
    "#############################################################################################"
   ]
  },
  {
   "cell_type": "code",
   "execution_count": 13,
   "metadata": {},
   "outputs": [
    {
     "data": {
      "text/plain": [
       "['']"
      ]
     },
     "execution_count": 13,
     "metadata": {},
     "output_type": "execute_result"
    },
    {
     "data": {
      "image/png": "[encoded data removed]",
      "text/plain": [
       "<matplotlib.figure.Figure at 0x7f79ee9491d0>"
      ]
     },
     "metadata": {},
     "output_type": "display_data"
    }
   ],
   "source": [
    "import pytesseract\n",
    "from PIL import Image, ImageEnhance, ImageFilter\n",
    "\n",
    "im = Image.open('temp/1.png') # the second one \n",
    "im = im.filter(ImageFilter.MedianFilter())\n",
    "enhancer = ImageEnhance.Contrast(im)\n",
    "im = enhancer.enhance(2)\n",
    "im = im.convert('1')\n",
    "plt.imshow(im)\n",
    "im.save('temp.jpg')\n",
    "text = pytesseract.image_to_string(Image.open('temp.jpg'))\n",
    "text.split('\\n')"
   ]
  },
  {
   "cell_type": "markdown",
   "metadata": {},
   "source": [
    "#############################################################################################"
   ]
  },
  {
   "cell_type": "code",
   "execution_count": 45,
   "metadata": {},
   "outputs": [
    {
     "data": {
      "text/plain": [
       "['']"
      ]
     },
     "execution_count": 45,
     "metadata": {},
     "output_type": "execute_result"
    },
    {
     "data": {
      "image/png": "[encoded data removed]",
      "text/plain": [
       "<matplotlib.figure.Figure at 0x7ff238d7a668>"
      ]
     },
     "metadata": {},
     "output_type": "display_data"
    }
   ],
   "source": [
    "import cv2\n",
    "\n",
    "# load the example image and convert it to grayscale\n",
    "image = cv2.imread('temp/1.png',1)\n",
    "gray = cv2.cvtColor(image, cv2.COLOR_BGR2GRAY)\n",
    "\n",
    "\n",
    "gray = cv2.threshold(gray, 200, 255,cv2.THRESH_BINARY | cv2.THRESH_OTSU)[1]\n",
    "\n",
    "#gray = cv2.medianBlur(gray, 3)\n",
    "plt.imshow(gray)\n",
    "text = pytesseract.image_to_string(gray)\n",
    "text.split('\\n')"
   ]
  },
  {
   "cell_type": "markdown",
   "metadata": {},
   "source": [
    "#############################################################################################"
   ]
  },
  {
   "cell_type": "code",
   "execution_count": 12,
   "metadata": {},
   "outputs": [],
   "source": [
    "class ShapeDetector:\n",
    "\tdef __init__(self):\n",
    "\t\tpass\n",
    "\n",
    "\tdef detect(self, c):\n",
    "\t\t# initialize the shape name and approximate the contour\n",
    "\t\tshape = \"unidentified\"\n",
    "\t\tperi = cv2.arcLength(c, True)\n",
    "\t\tapprox = cv2.approxPolyDP(c, 0.04 * peri, True)\n",
    "\n",
    "\t\t# if the shape is a triangle, it will have 3 vertices\n",
    "\t\tif len(approx) == 3:\n",
    "\t\t\tshape = \"triangle\"\n",
    "\n",
    "\t\t# if the shape has 4 vertices, it is either a square or\n",
    "\t\t# a rectangle\n",
    "\t\telif len(approx) == 4:\n",
    "\t\t\t# compute the bounding box of the contour and use the\n",
    "\t\t\t# bounding box to compute the aspect ratio\n",
    "\t\t\t(x, y, w, h) = cv2.boundingRect(approx)\n",
    "\t\t\tar = w / float(h)\n",
    "\n",
    "\t\t\t# a square will have an aspect ratio that is approximately\n",
    "\t\t\t# equal to one, otherwise, the shape is a rectangle\n",
    "\t\t\tshape = \"square\" if ar >= 0.95 and ar <= 1.05 else \"rectangle\"\n",
    "\n",
    "\t\t# if the shape is a pentagon, it will have 5 vertices\n",
    "\t\telif len(approx) == 5:\n",
    "\t\t\tshape = \"pentagon\"\n",
    "\n",
    "\t\t# otherwise, we assume the shape is a circle\n",
    "\t\telse:\n",
    "\t\t\tshape = \"circle\"\n",
    "\n",
    "\t\t# return the name of the shape\n",
    "\t\treturn shape"
   ]
  },
  {
   "cell_type": "code",
   "execution_count": 13,
   "metadata": {},
   "outputs": [],
   "source": [
    "cnts = cv2.findContours(gray.copy(), cv2.RETR_EXTERNAL,\n",
    "\tcv2.CHAIN_APPROX_SIMPLE)\n",
    "cnts = cnts[0] if imutils.is_cv2() else cnts[1]\n",
    "sd = ShapeDetector()"
   ]
  },
  {
   "cell_type": "code",
   "execution_count": 14,
   "metadata": {},
   "outputs": [],
   "source": [
    "ratio=1 # let it be "
   ]
  },
  {
   "cell_type": "code",
   "execution_count": 15,
   "metadata": {},
   "outputs": [],
   "source": [
    "# loop over the contours\n",
    "for c in cnts:\n",
    "\t# compute the center of the contour, then detect the name of the\n",
    "\t# shape using only the contour\n",
    "\tM = cv2.moments(c)\n",
    "\tcX = int((M[\"m10\"] / M[\"m00\"]) * ratio)\n",
    "\tcY = int((M[\"m01\"] / M[\"m00\"]) * ratio)\n",
    "\tshape = sd.detect(c)\n",
    "\n",
    "\t# multiply the contour (x, y)-coordinates by the resize ratio,\n",
    "\t# then draw the contours and the name of the shape on the image\n",
    "\tc = c.astype(\"float\")\n",
    "\tc *= ratio\n",
    "\tc = c.astype(\"int\")\n",
    "\tcv2.drawContours(image, [c], -1, (0, 255, 0), 2)\n",
    "\tcv2.putText(image, shape, (cX, cY), cv2.FONT_HERSHEY_SIMPLEX,\n",
    "\t\t0.5, (255, 255, 255), 2)\n",
    "\n",
    "\t# show the output image\n",
    "\tcv2.imshow(\"Image\", image)\n",
    "\tcv2.waitKey(0)"
   ]
  }
 ],
 "metadata": {
  "kernelspec": {
   "display_name": "Python 3",
   "language": "python",
   "name": "python3"
  },
  "language_info": {
   "codemirror_mode": {
    "name": "ipython",
    "version": 3
   },
   "file_extension": ".py",
   "mimetype": "text/x-python",
   "name": "python",
   "nbconvert_exporter": "python",
   "pygments_lexer": "ipython3",
   "version": "3.5.2"
  }
 },
 "nbformat": 4,
 "nbformat_minor": 2
}
